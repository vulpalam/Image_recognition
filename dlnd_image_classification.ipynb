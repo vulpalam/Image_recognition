{
 "cells": [
  {
   "cell_type": "markdown",
   "metadata": {
    "collapsed": true,
    "deletable": true,
    "editable": true
   },
   "source": [
    "# Image Classification\n",
    "In this project, you'll classify images from the [CIFAR-10 dataset](https://www.cs.toronto.edu/~kriz/cifar.html).  The dataset consists of airplanes, dogs, cats, and other objects. You'll preprocess the images, then train a convolutional neural network on all the samples. The images need to be normalized and the labels need to be one-hot encoded.  You'll get to apply what you learned and build a convolutional, max pooling, dropout, and fully connected layers.  At the end, you'll get to see your neural network's predictions on the sample images.\n",
    "## Get the Data\n",
    "Run the following cell to download the [CIFAR-10 dataset for python](https://www.cs.toronto.edu/~kriz/cifar-10-python.tar.gz)."
   ]
  },
  {
   "cell_type": "code",
   "execution_count": 1,
   "metadata": {
    "collapsed": false,
    "deletable": true,
    "editable": true
   },
   "outputs": [
    {
     "name": "stdout",
     "output_type": "stream",
     "text": [
      "All files found!\n"
     ]
    }
   ],
   "source": [
    "\"\"\"\n",
    "DON'T MODIFY ANYTHING IN THIS CELL THAT IS BELOW THIS LINE\n",
    "\"\"\"\n",
    "from urllib.request import urlretrieve\n",
    "from os.path import isfile, isdir\n",
    "from tqdm import tqdm\n",
    "import problem_unittests as tests\n",
    "import tarfile\n",
    "\n",
    "cifar10_dataset_folder_path = 'cifar-10-batches-py'\n",
    "\n",
    "class DLProgress(tqdm):\n",
    "    last_block = 0\n",
    "\n",
    "    def hook(self, block_num=1, block_size=1, total_size=None):\n",
    "        self.total = total_size\n",
    "        self.update((block_num - self.last_block) * block_size)\n",
    "        self.last_block = block_num\n",
    "\n",
    "if not isfile('cifar-10-python.tar.gz'):\n",
    "    with DLProgress(unit='B', unit_scale=True, miniters=1, desc='CIFAR-10 Dataset') as pbar:\n",
    "        urlretrieve(\n",
    "            'https://www.cs.toronto.edu/~kriz/cifar-10-python.tar.gz',\n",
    "            'cifar-10-python.tar.gz',\n",
    "            pbar.hook)\n",
    "\n",
    "if not isdir(cifar10_dataset_folder_path):\n",
    "    with tarfile.open('cifar-10-python.tar.gz') as tar:\n",
    "        tar.extractall()\n",
    "        tar.close()\n",
    "\n",
    "\n",
    "tests.test_folder_path(cifar10_dataset_folder_path)"
   ]
  },
  {
   "cell_type": "markdown",
   "metadata": {
    "deletable": true,
    "editable": true
   },
   "source": [
    "## Explore the Data\n",
    "The dataset is broken into batches to prevent your machine from running out of memory.  The CIFAR-10 dataset consists of 5 batches, named `data_batch_1`, `data_batch_2`, etc.. Each batch contains the labels and images that are one of the following:\n",
    "* airplane\n",
    "* automobile\n",
    "* bird\n",
    "* cat\n",
    "* deer\n",
    "* dog\n",
    "* frog\n",
    "* horse\n",
    "* ship\n",
    "* truck\n",
    "\n",
    "Understanding a dataset is part of making predictions on the data.  Play around with the code cell below by changing the `batch_id` and `sample_id`. The `batch_id` is the id for a batch (1-5). The `sample_id` is the id for a image and label pair in the batch.\n",
    "\n",
    "Ask yourself \"What are all possible labels?\", \"What is the range of values for the image data?\", \"Are the labels in order or random?\".  Answers to questions like these will help you preprocess the data and end up with better predictions."
   ]
  },
  {
   "cell_type": "code",
   "execution_count": 2,
   "metadata": {
    "collapsed": false,
    "deletable": true,
    "editable": true
   },
   "outputs": [
    {
     "name": "stdout",
     "output_type": "stream",
     "text": [
      "\n",
      "Stats of batch 3:\n",
      "Samples: 10000\n",
      "Label Counts: {0: 994, 1: 1042, 2: 965, 3: 997, 4: 990, 5: 1029, 6: 978, 7: 1015, 8: 961, 9: 1029}\n",
      "First 20 Labels: [8, 5, 0, 6, 9, 2, 8, 3, 6, 2, 7, 4, 6, 9, 0, 0, 7, 3, 7, 2]\n",
      "\n",
      "Example of Image 501:\n",
      "Image - Min Value: 24 Max Value: 241\n",
      "Image - Shape: (32, 32, 3)\n",
      "Label - Label Id: 6 Name: frog\n"
     ]
    },
    {
     "data": {
      "image/png": "[encoded data removed]",
      "text/plain": [
       "<matplotlib.figure.Figure at 0x1173d1c88>"
      ]
     },
     "metadata": {
      "image/png": {
       "height": 250,
       "width": 253
      }
     },
     "output_type": "display_data"
    }
   ],
   "source": [
    "%matplotlib inline\n",
    "%config InlineBackend.figure_format = 'retina'\n",
    "\n",
    "import helper\n",
    "import numpy as np\n",
    "\n",
    "# Explore the dataset\n",
    "batch_id = 3\n",
    "sample_id = 501\n",
    "helper.display_stats(cifar10_dataset_folder_path, batch_id, sample_id)"
   ]
  },
  {
   "cell_type": "markdown",
   "metadata": {
    "deletable": true,
    "editable": true
   },
   "source": [
    "## Implement Preprocess Functions\n",
    "### Normalize\n",
    "In the cell below, implement the `normalize` function to take in image data, `x`, and return it as a normalized Numpy array. The values should be in the range of 0 to 1, inclusive.  The return object should be the same shape as `x`."
   ]
  },
  {
   "cell_type": "code",
   "execution_count": 3,
   "metadata": {
    "collapsed": false,
    "deletable": true,
    "editable": true
   },
   "outputs": [
    {
     "name": "stdout",
     "output_type": "stream",
     "text": [
      "Tests Passed\n"
     ]
    }
   ],
   "source": [
    "def normalize(x):\n",
    "    \"\"\"\n",
    "    Normalize a list of sample image data in the range of 0 to 1\n",
    "    : x: List of image data.  The image shape is (32, 32, 3)\n",
    "    : return: Numpy array of normalize data\n",
    "    \"\"\"\n",
    "    # TODO: Implement Function\n",
    "    x = x.astype('float32')\n",
    "    if x.max() > 1.0:\n",
    "        x/=255.0\n",
    "    return x\n",
    "\n",
    "\n",
    "\"\"\"\n",
    "DON'T MODIFY ANYTHING IN THIS CELL THAT IS BELOW THIS LINE\n",
    "\"\"\"\n",
    "tests.test_normalize(normalize)"
   ]
  },
  {
   "cell_type": "markdown",
   "metadata": {
    "deletable": true,
    "editable": true
   },
   "source": [
    "### One-hot encode\n",
    "Just like the previous code cell, you'll be implementing a function for preprocessing.  This time, you'll implement the `one_hot_encode` function. The input, `x`, are a list of labels.  Implement the function to return the list of labels as One-Hot encoded Numpy array.  The possible values for labels are 0 to 9. The one-hot encoding function should return the same encoding for each value between each call to `one_hot_encode`.  Make sure to save the map of encodings outside the function.\n",
    "\n",
    "Hint: Don't reinvent the wheel."
   ]
  },
  {
   "cell_type": "code",
   "execution_count": 4,
   "metadata": {
    "collapsed": false,
    "deletable": true,
    "editable": true
   },
   "outputs": [
    {
     "name": "stdout",
     "output_type": "stream",
     "text": [
      "Tests Passed\n"
     ]
    }
   ],
   "source": [
    "def one_hot_encode(x):\n",
    "    \"\"\"\n",
    "    One hot encode a list of sample labels. Return a one-hot encoded vector for each label.\n",
    "    : x: List of sample Labels\n",
    "    : return: Numpy array of one-hot encoded labels\n",
    "    \"\"\"\n",
    "    # TODO: Implement Function\n",
    "    one_hot = np.eye(10)[x]\n",
    "    #print (len(one_hot))\n",
    "    return one_hot\n",
    "\n",
    "\"\"\"\n",
    "DON'T MODIFY ANYTHING IN THIS CELL THAT IS BELOW THIS LINE\n",
    "\"\"\"\n",
    "tests.test_one_hot_encode(one_hot_encode)"
   ]
  },
  {
   "cell_type": "markdown",
   "metadata": {
    "deletable": true,
    "editable": true
   },
   "source": [
    "### Randomize Data\n",
    "As you saw from exploring the data above, the order of the samples are randomized.  It doesn't hurt to randomize it again, but you don't need to for this dataset."
   ]
  },
  {
   "cell_type": "markdown",
   "metadata": {
    "deletable": true,
    "editable": true
   },
   "source": [
    "## Preprocess all the data and save it\n",
    "Running the code cell below will preprocess all the CIFAR-10 data and save it to file. The code below also uses 10% of the training data for validation."
   ]
  },
  {
   "cell_type": "code",
   "execution_count": 5,
   "metadata": {
    "collapsed": false,
    "deletable": true,
    "editable": true
   },
   "outputs": [],
   "source": [
    "\"\"\"\n",
    "DON'T MODIFY ANYTHING IN THIS CELL\n",
    "\"\"\"\n",
    "# Preprocess Training, Validation, and Testing Data\n",
    "helper.preprocess_and_save_data(cifar10_dataset_folder_path, normalize, one_hot_encode)"
   ]
  },
  {
   "cell_type": "markdown",
   "metadata": {
    "deletable": true,
    "editable": true
   },
   "source": [
    "# Check Point\n",
    "This is your first checkpoint.  If you ever decide to come back to this notebook or have to restart the notebook, you can start from here.  The preprocessed data has been saved to disk."
   ]
  },
  {
   "cell_type": "code",
   "execution_count": 6,
   "metadata": {
    "collapsed": true,
    "deletable": true,
    "editable": true
   },
   "outputs": [],
   "source": [
    "\"\"\"\n",
    "DON'T MODIFY ANYTHING IN THIS CELL\n",
    "\"\"\"\n",
    "import pickle\n",
    "import problem_unittests as tests\n",
    "import helper\n",
    "\n",
    "# Load the Preprocessed Validation data\n",
    "valid_features, valid_labels = pickle.load(open('preprocess_validation.p', mode='rb'))"
   ]
  },
  {
   "cell_type": "markdown",
   "metadata": {
    "deletable": true,
    "editable": true
   },
   "source": [
    "## Build the network\n",
    "For the neural network, you'll build each layer into a function.  Most of the code you've seen has been outside of functions. To test your code more thoroughly, we require that you put each layer in a function.  This allows us to give you better feedback and test for simple mistakes using our unittests before you submit your project.\n",
    "\n",
    ">**Note:** If you're finding it hard to dedicate enough time for this course each week, we've provided a small shortcut to this part of the project. In the next couple of problems, you'll have the option to use classes from the [TensorFlow Layers](https://www.tensorflow.org/api_docs/python/tf/layers) or [TensorFlow Layers (contrib)](https://www.tensorflow.org/api_guides/python/contrib.layers) packages to build each layer, except the layers you build in the \"Convolutional and Max Pooling Layer\" section.  TF Layers is similar to Keras's and TFLearn's abstraction to layers, so it's easy to pickup.\n",
    "\n",
    ">However, if you would like to get the most out of this course, try to solve all the problems _without_ using anything from the TF Layers packages. You **can** still use classes from other packages that happen to have the same name as ones you find in TF Layers! For example, instead of using the TF Layers version of the `conv2d` class, [tf.layers.conv2d](https://www.tensorflow.org/api_docs/python/tf/layers/conv2d), you would want to use the TF Neural Network version of `conv2d`, [tf.nn.conv2d](https://www.tensorflow.org/api_docs/python/tf/nn/conv2d). \n",
    "\n",
    "Let's begin!\n",
    "\n",
    "### Input\n",
    "The neural network needs to read the image data, one-hot encoded labels, and dropout keep probability. Implement the following functions\n",
    "* Implement `neural_net_image_input`\n",
    " * Return a [TF Placeholder](https://www.tensorflow.org/api_docs/python/tf/placeholder)\n",
    " * Set the shape using `image_shape` with batch size set to `None`.\n",
    " * Name the TensorFlow placeholder \"x\" using the TensorFlow `name` parameter in the [TF Placeholder](https://www.tensorflow.org/api_docs/python/tf/placeholder).\n",
    "* Implement `neural_net_label_input`\n",
    " * Return a [TF Placeholder](https://www.tensorflow.org/api_docs/python/tf/placeholder)\n",
    " * Set the shape using `n_classes` with batch size set to `None`.\n",
    " * Name the TensorFlow placeholder \"y\" using the TensorFlow `name` parameter in the [TF Placeholder](https://www.tensorflow.org/api_docs/python/tf/placeholder).\n",
    "* Implement `neural_net_keep_prob_input`\n",
    " * Return a [TF Placeholder](https://www.tensorflow.org/api_docs/python/tf/placeholder) for dropout keep probability.\n",
    " * Name the TensorFlow placeholder \"keep_prob\" using the TensorFlow `name` parameter in the [TF Placeholder](https://www.tensorflow.org/api_docs/python/tf/placeholder).\n",
    "\n",
    "These names will be used at the end of the project to load your saved model.\n",
    "\n",
    "Note: `None` for shapes in TensorFlow allow for a dynamic size."
   ]
  },
  {
   "cell_type": "code",
   "execution_count": 7,
   "metadata": {
    "collapsed": false,
    "deletable": true,
    "editable": true
   },
   "outputs": [
    {
     "name": "stdout",
     "output_type": "stream",
     "text": [
      "Image Input Tests Passed.\n",
      "Label Input Tests Passed.\n",
      "Keep Prob Tests Passed.\n"
     ]
    }
   ],
   "source": [
    "import tensorflow as tf\n",
    "\n",
    "def neural_net_image_input(image_shape):\n",
    "    \"\"\"\n",
    "    Return a Tensor for a bach of image input\n",
    "    : image_shape: Shape of the images\n",
    "    : return: Tensor for image input.\n",
    "    \"\"\"\n",
    "    # TODO: Implement Function\n",
    "    x = tf.placeholder(tf.float32, (None, image_shape[0], image_shape[1], image_shape[2]) ,name ='x')\n",
    "    return x\n",
    "\n",
    "\n",
    "def neural_net_label_input(n_classes):\n",
    "    \"\"\"\n",
    "    Return a Tensor for a batch of label input\n",
    "    : n_classes: Number of classes\n",
    "    : return: Tensor for label input.\n",
    "    \"\"\"\n",
    "    # TODO: Implement Function\n",
    "    y = tf.placeholder(tf.float32, [None, n_classes] , name='y')\n",
    "    return y \n",
    "\n",
    "\n",
    "def neural_net_keep_prob_input():\n",
    "    \"\"\"\n",
    "    Return a Tensor for keep probability\n",
    "    : return: Tensor for keep probability.\n",
    "    \"\"\"\n",
    "    # TODO: Implement Function\n",
    "    keep_prob = tf.placeholder(tf.float32 , name='keep_prob')\n",
    "    return keep_prob\n",
    "\n",
    "\n",
    "\"\"\"\n",
    "DON'T MODIFY ANYTHING IN THIS CELL THAT IS BELOW THIS LINE\n",
    "\"\"\"\n",
    "tf.reset_default_graph()\n",
    "tests.test_nn_image_inputs(neural_net_image_input)\n",
    "tests.test_nn_label_inputs(neural_net_label_input)\n",
    "tests.test_nn_keep_prob_inputs(neural_net_keep_prob_input)"
   ]
  },
  {
   "cell_type": "markdown",
   "metadata": {
    "deletable": true,
    "editable": true
   },
   "source": [
    "### Convolution and Max Pooling Layer\n",
    "Convolution layers have a lot of success with images. For this code cell, you should implement the function `conv2d_maxpool` to apply convolution then max pooling:\n",
    "* Create the weight and bias using `conv_ksize`, `conv_num_outputs` and the shape of `x_tensor`.\n",
    "* Apply a convolution to `x_tensor` using weight and `conv_strides`.\n",
    " * We recommend you use same padding, but you're welcome to use any padding.\n",
    "* Add bias\n",
    "* Add a nonlinear activation to the convolution.\n",
    "* Apply Max Pooling using `pool_ksize` and `pool_strides`.\n",
    " * We recommend you use same padding, but you're welcome to use any padding.\n",
    "\n",
    "**Note:** You **can't** use [TensorFlow Layers](https://www.tensorflow.org/api_docs/python/tf/layers) or [TensorFlow Layers (contrib)](https://www.tensorflow.org/api_guides/python/contrib.layers) for **this** layer, but you can still use TensorFlow's [Neural Network](https://www.tensorflow.org/api_docs/python/tf/nn) package. You may still use the shortcut option for all the **other** layers."
   ]
  },
  {
   "cell_type": "code",
   "execution_count": 89,
   "metadata": {
    "collapsed": false,
    "deletable": true,
    "editable": true
   },
   "outputs": [
    {
     "name": "stdout",
     "output_type": "stream",
     "text": [
      "Tests Passed\n"
     ]
    }
   ],
   "source": [
    "def conv2d_maxpool(x_tensor, conv_num_outputs, conv_ksize, conv_strides, pool_ksize, pool_strides):\n",
    "    \"\"\"\n",
    "    Apply convolution then max pooling to x_tensor\n",
    "    :param x_tensor: TensorFlow Tensor\n",
    "    :param conv_num_outputs: Number of outputs for the convolutional layer\n",
    "    :param conv_ksize: kernal size 2-D Tuple for the convolutional layer\n",
    "    :param conv_strides: Stride 2-D Tuple for convolution\n",
    "    :param pool_ksize: kernal size 2-D Tuple for pool\n",
    "    :param pool_strides: Stride 2-D Tuple for pool\n",
    "    : return: A tensor that represents convolution and max pooling of x_tensor\n",
    "    \"\"\"\n",
    "    # TODO: Implement Function\n",
    "    x = 0\n",
    "    y = 1\n",
    "    z = 3\n",
    "    w1 = tf.Variable(tf.truncated_normal([conv_ksize[x], conv_ksize[y] ,int(x_tensor.shape[z]) , conv_num_outputs],stddev=0.1))\n",
    "    b1 = tf.Variable(tf.zeros((conv_num_outputs)))\n",
    "    \n",
    "    x_tensor = tf.nn.conv2d(x_tensor , w1, strides=[1 ,conv_strides[x], conv_strides[y], 1], padding ='SAME')\n",
    "    x_tensor = tf.nn.bias_add(x_tensor, b1)\n",
    "    x_tensor = tf.nn.relu(x_tensor)\n",
    "    \n",
    "    x_tensor = tf.nn.max_pool(x_tensor, ksize=[1,pool_ksize[0],pool_ksize[1] ,1], strides=[1,pool_strides[0],pool_strides[1],1],padding='SAME')\n",
    "    #print('shape', x_tensor.get_shape())\n",
    "    return x_tensor\n",
    "\n",
    "\n",
    "\"\"\"\n",
    "DON'T MODIFY ANYTHING IN THIS CELL THAT IS BELOW THIS LINE\n",
    "\"\"\"\n",
    "tests.test_con_pool(conv2d_maxpool)"
   ]
  },
  {
   "cell_type": "markdown",
   "metadata": {
    "deletable": true,
    "editable": true
   },
   "source": [
    "### Flatten Layer\n",
    "Implement the `flatten` function to change the dimension of `x_tensor` from a 4-D tensor to a 2-D tensor.  The output should be the shape (*Batch Size*, *Flattened Image Size*). Shortcut option: you can use classes from the [TensorFlow Layers](https://www.tensorflow.org/api_docs/python/tf/layers) or [TensorFlow Layers (contrib)](https://www.tensorflow.org/api_guides/python/contrib.layers) packages for this layer. For more of a challenge, only use other TensorFlow packages."
   ]
  },
  {
   "cell_type": "code",
   "execution_count": 90,
   "metadata": {
    "collapsed": false,
    "deletable": true,
    "editable": true
   },
   "outputs": [
    {
     "name": "stdout",
     "output_type": "stream",
     "text": [
      "Tests Passed\n"
     ]
    }
   ],
   "source": [
    "def flatten(x_tensor):\n",
    "    \"\"\"\n",
    "    Flatten x_tensor to (Batch Size, Flattened Image Size)\n",
    "    : x_tensor: A tensor of size (Batch Size, ...), where ... are the image dimensions.\n",
    "    : return: A tensor of size (Batch Size, Flattened Image Size).\n",
    "    \"\"\"\n",
    "    # TODO: Implement Function\n",
    "    #W = int(x_tensor).shape[1]\n",
    "    dim = int(x_tensor.shape[1] * x_tensor.shape[2] * x_tensor.shape[3])\n",
    "    #print('shape',dim)\n",
    "    a = tf.reshape(x_tensor,[-1,dim])\n",
    "    return a\n",
    "\n",
    "\n",
    "\"\"\"\n",
    "DON'T MODIFY ANYTHING IN THIS CELL THAT IS BELOW THIS LINE\n",
    "\"\"\"\n",
    "tests.test_flatten(flatten)"
   ]
  },
  {
   "cell_type": "markdown",
   "metadata": {
    "deletable": true,
    "editable": true
   },
   "source": [
    "### Fully-Connected Layer\n",
    "Implement the `fully_conn` function to apply a fully connected layer to `x_tensor` with the shape (*Batch Size*, *num_outputs*). Shortcut option: you can use classes from the [TensorFlow Layers](https://www.tensorflow.org/api_docs/python/tf/layers) or [TensorFlow Layers (contrib)](https://www.tensorflow.org/api_guides/python/contrib.layers) packages for this layer. For more of a challenge, only use other TensorFlow packages."
   ]
  },
  {
   "cell_type": "code",
   "execution_count": 91,
   "metadata": {
    "collapsed": false,
    "deletable": true,
    "editable": true
   },
   "outputs": [
    {
     "name": "stdout",
     "output_type": "stream",
     "text": [
      "Tests Passed\n"
     ]
    }
   ],
   "source": [
    "def fully_conn(x_tensor, num_outputs):\n",
    "    \"\"\"\n",
    "    Apply a fully connected layer to x_tensor using weight and bias\n",
    "    : x_tensor: A 2-D tensor where the first dimension is batch size.\n",
    "    : num_outputs: The number of output that the new tensor should be.\n",
    "    : return: A 2-D tensor where the second dimension is num_outputs.\n",
    "    \"\"\"\n",
    "    #print('shape',num_outputs)\n",
    "    # TODO: Implement Function\n",
    "    weights = tf.Variable(tf.truncated_normal([int(x_tensor.shape[1]), num_outputs],stddev=0.1))\n",
    "    bias = tf.Variable(tf.zeros(num_outputs))\n",
    "    fc1 = tf.add(tf.matmul(x_tensor, weights) , bias)\n",
    "    fc1 = tf.nn.relu(fc1)\n",
    "    return fc1\n",
    "\n",
    "\n",
    "\"\"\"\n",
    "DON'T MODIFY ANYTHING IN THIS CELL THAT IS BELOW THIS LINE\n",
    "\"\"\"\n",
    "tests.test_fully_conn(fully_conn)"
   ]
  },
  {
   "cell_type": "markdown",
   "metadata": {
    "deletable": true,
    "editable": true
   },
   "source": [
    "### Output Layer\n",
    "Implement the `output` function to apply a fully connected layer to `x_tensor` with the shape (*Batch Size*, *num_outputs*). Shortcut option: you can use classes from the [TensorFlow Layers](https://www.tensorflow.org/api_docs/python/tf/layers) or [TensorFlow Layers (contrib)](https://www.tensorflow.org/api_guides/python/contrib.layers) packages for this layer. For more of a challenge, only use other TensorFlow packages.\n",
    "\n",
    "**Note:** Activation, softmax, or cross entropy should **not** be applied to this."
   ]
  },
  {
   "cell_type": "code",
   "execution_count": 92,
   "metadata": {
    "collapsed": false,
    "deletable": true,
    "editable": true
   },
   "outputs": [
    {
     "name": "stdout",
     "output_type": "stream",
     "text": [
      "Tests Passed\n"
     ]
    }
   ],
   "source": [
    "def output(x_tensor, num_outputs):\n",
    "    \"\"\"\n",
    "    Apply a output layer to x_tensor using weight and bias\n",
    "    : x_tensor: A 2-D tensor where the first dimension is batch size.\n",
    "    : num_outputs: The number of output that the new tensor should be.\n",
    "    : return: A 2-D tensor where the second dimension is num_outputs.\n",
    "    \"\"\"\n",
    "    # TODO: Implement Function\n",
    "    \n",
    "    weights = tf.Variable(tf.truncated_normal([int(x_tensor.shape[1]), num_outputs],stddev=0.1))\n",
    "    bias = tf.Variable(tf.zeros(num_outputs))\n",
    "    \n",
    "    output_layer = tf.add(tf.matmul(x_tensor,weights) , bias)\n",
    "    output_layer = tf.nn.softmax(output_layer)\n",
    "    return output_layer\n",
    "\n",
    "\n",
    "\"\"\"\n",
    "DON'T MODIFY ANYTHING IN THIS CELL THAT IS BELOW THIS LINE\n",
    "\"\"\"\n",
    "tests.test_output(output)"
   ]
  },
  {
   "cell_type": "markdown",
   "metadata": {
    "deletable": true,
    "editable": true
   },
   "source": [
    "### Create Convolutional Model\n",
    "Implement the function `conv_net` to create a convolutional neural network model. The function takes in a batch of images, `x`, and outputs logits.  Use the layers you created above to create this model:\n",
    "\n",
    "* Apply 1, 2, or 3 Convolution and Max Pool layers\n",
    "* Apply a Flatten Layer\n",
    "* Apply 1, 2, or 3 Fully Connected Layers\n",
    "* Apply an Output Layer\n",
    "* Return the output\n",
    "* Apply [TensorFlow's Dropout](https://www.tensorflow.org/api_docs/python/tf/nn/dropout) to one or more layers in the model using `keep_prob`. "
   ]
  },
  {
   "cell_type": "code",
   "execution_count": 93,
   "metadata": {
    "collapsed": false,
    "deletable": true,
    "editable": true
   },
   "outputs": [
    {
     "name": "stdout",
     "output_type": "stream",
     "text": [
      "Neural Network Built!\n"
     ]
    }
   ],
   "source": [
    "def conv_net(x, keep_prob):\n",
    "    \"\"\"\n",
    "    Create a convolutional neural network model\n",
    "    : x: Placeholder tensor that holds image data.\n",
    "    : keep_prob: Placeholder tensor that hold dropout keep probability.\n",
    "    : return: Tensor that represents logits\n",
    "    \"\"\"\n",
    "    # TODO: Apply 1, 2, or 3 Convolution and Max Pool layers\n",
    "    #    Play around with different number of outputs, kernel size and stride\n",
    "    # Function Definition from Above:\n",
    "    #    conv2d_maxpool(x_tensor, conv_num_outputs, conv_ksize, conv_strides, pool_ksize, pool_strides)\n",
    "    \n",
    "    conv1 = conv2d_maxpool(x_tensor=x,\n",
    "                           conv_num_outputs = 100,\n",
    "                           conv_ksize = (3,3),\n",
    "                           conv_strides = (1,1),\n",
    "                           pool_ksize =(2,2), \n",
    "                           pool_strides = (1,1)\n",
    "                           )\n",
    "    conv2 = conv2d_maxpool(x_tensor=conv1,\n",
    "                           conv_num_outputs = 50,\n",
    "                           conv_ksize = (2,2),\n",
    "                           conv_strides = (1,1),\n",
    "                           pool_ksize =(2,2), \n",
    "                           pool_strides = (1,1)\n",
    "                           )\n",
    "    \n",
    "    #conv3 = conv2d_maxpool(x_tensor=conv2,\n",
    "                           #conv_num_outputs = 30,\n",
    "                           #conv_ksize = (2,2),\n",
    "                           #conv_strides = (1,1),\n",
    "                           #pool_ksize =(2,2), \n",
    "                           #pool_strides = (1,1)\n",
    "                           #)\n",
    "\n",
    "    # TODO: Apply a Flatten Layer\n",
    "    # Function Definition from Above:\n",
    "    #   flatten(x_tensor)\n",
    "    flat = tf.nn.dropout(conv2, keep_prob)\n",
    "    flat_layer = flatten(flat)\n",
    "\n",
    "    # TODO: Apply 1, 2, or 3 Fully Connected Layers\n",
    "    #    Play around with different number of outputs\n",
    "    # Function Definition from Above:\n",
    "    #   fully_conn(x_tensor, num_outputs)\n",
    "    \n",
    "    ful_c1 = fully_conn(flat_layer , 20)\n",
    "    #ful_c2 = fully_conn(ful_c1 , 20)\n",
    "\n",
    "\n",
    "    \n",
    "    \n",
    "    # TODO: Apply an Output Layer\n",
    "    #    Set this to the number of classes\n",
    "    # Function Definition from Above:\n",
    "    #   output(x_tensor, num_outputs)\n",
    "    \n",
    "    output_layer = output(ful_c1, 10)\n",
    "    \n",
    "    # TODO: return output\n",
    "    return output_layer\n",
    "\n",
    "\n",
    "\"\"\"\n",
    "DON'T MODIFY ANYTHING IN THIS CELL THAT IS BELOW THIS LINE\n",
    "\"\"\"\n",
    "\n",
    "##############################\n",
    "## Build the Neural Network ##\n",
    "##############################\n",
    "\n",
    "# Remove previous weights, bias, inputs, etc..\n",
    "tf.reset_default_graph()\n",
    "\n",
    "# Inputs\n",
    "x = neural_net_image_input((32, 32, 3))\n",
    "y = neural_net_label_input(10)\n",
    "keep_prob = neural_net_keep_prob_input()\n",
    "\n",
    "# Model\n",
    "logits = conv_net(x, keep_prob)\n",
    "\n",
    "# Name logits Tensor, so that is can be loaded from disk after training\n",
    "logits = tf.identity(logits, name='logits')\n",
    "\n",
    "# Loss and Optimizer\n",
    "cost = tf.reduce_mean(tf.nn.softmax_cross_entropy_with_logits(logits=logits, labels=y))\n",
    "optimizer = tf.train.AdamOptimizer().minimize(cost)\n",
    "\n",
    "# Accuracy\n",
    "correct_pred = tf.equal(tf.argmax(logits, 1), tf.argmax(y, 1))\n",
    "accuracy = tf.reduce_mean(tf.cast(correct_pred, tf.float32), name='accuracy')\n",
    "\n",
    "tests.test_conv_net(conv_net)"
   ]
  },
  {
   "cell_type": "markdown",
   "metadata": {
    "deletable": true,
    "editable": true
   },
   "source": [
    "## Train the Neural Network\n",
    "### Single Optimization\n",
    "Implement the function `train_neural_network` to do a single optimization.  The optimization should use `optimizer` to optimize in `session` with a `feed_dict` of the following:\n",
    "* `x` for image input\n",
    "* `y` for labels\n",
    "* `keep_prob` for keep probability for dropout\n",
    "\n",
    "This function will be called for each batch, so `tf.global_variables_initializer()` has already been called.\n",
    "\n",
    "Note: Nothing needs to be returned. This function is only optimizing the neural network."
   ]
  },
  {
   "cell_type": "code",
   "execution_count": 94,
   "metadata": {
    "collapsed": false,
    "deletable": true,
    "editable": true
   },
   "outputs": [
    {
     "name": "stdout",
     "output_type": "stream",
     "text": [
      "Tests Passed\n"
     ]
    }
   ],
   "source": [
    "def train_neural_network(session, optimizer, keep_probability, feature_batch, label_batch):\n",
    "    \"\"\"\n",
    "    Optimize the session on a batch of images and labels\n",
    "    : session: Current TensorFlow session\n",
    "    : optimizer: TensorFlow optimizer function\n",
    "    : keep_probability: keep probability\n",
    "    : feature_batch: Batch of Numpy image data\n",
    "    : label_batch: Batch of Numpy label data\n",
    "    \"\"\"\n",
    "    # TODO: Implement Function\n",
    "    session.run(optimizer, feed_dict={x : feature_batch,\n",
    "                                      y: label_batch,\n",
    "                                      keep_prob: keep_probability})\n",
    "    pass\n",
    "\n",
    "\n",
    "\"\"\"\n",
    "DON'T MODIFY ANYTHING IN THIS CELL THAT IS BELOW THIS LINE\n",
    "\"\"\"\n",
    "tests.test_train_nn(train_neural_network)"
   ]
  },
  {
   "cell_type": "markdown",
   "metadata": {
    "deletable": true,
    "editable": true
   },
   "source": [
    "### Show Stats\n",
    "Implement the function `print_stats` to print loss and validation accuracy.  Use the global variables `valid_features` and `valid_labels` to calculate validation accuracy.  Use a keep probability of `1.0` to calculate the loss and validation accuracy."
   ]
  },
  {
   "cell_type": "code",
   "execution_count": 95,
   "metadata": {
    "collapsed": false,
    "deletable": true,
    "editable": true
   },
   "outputs": [],
   "source": [
    "def print_stats(session, feature_batch, label_batch, cost, accuracy):\n",
    "    \"\"\"\n",
    "    Print information about loss and validation accuracy\n",
    "    : session: Current TensorFlow session\n",
    "    : feature_batch: Batch of Numpy image data\n",
    "    : label_batch: Batch of Numpy label data\n",
    "    : cost: TensorFlow cost function\n",
    "    : accuracy: TensorFlow accuracy function\n",
    "    \"\"\"\n",
    "    # TODO: Implement Function\n",
    "    loss = session.run(cost,\n",
    "                      feed_dict={x: feature_batch,\n",
    "                                 y: label_batch,\n",
    "                                 keep_prob: 1.0})\n",
    "    validation_accuracy = session.run(accuracy,\n",
    "                                     feed_dict={x: valid_features,\n",
    "                                                y: valid_labels,\n",
    "                                                keep_prob: 1.0})\n",
    "    #print('loss',loss)\n",
    "    print('Loss: {:>15.4f} Validation Accuracy: {:.4f}'.format(loss, validation_accuracy))\n",
    "    pass"
   ]
  },
  {
   "cell_type": "markdown",
   "metadata": {
    "deletable": true,
    "editable": true
   },
   "source": [
    "### Hyperparameters\n",
    "Tune the following parameters:\n",
    "* Set `epochs` to the number of iterations until the network stops learning or start overfitting\n",
    "* Set `batch_size` to the highest number that your machine has memory for.  Most people set them to common sizes of memory:\n",
    " * 64\n",
    " * 128\n",
    " * 256\n",
    " * ...\n",
    "* Set `keep_probability` to the probability of keeping a node using dropout"
   ]
  },
  {
   "cell_type": "code",
   "execution_count": 96,
   "metadata": {
    "collapsed": true,
    "deletable": true,
    "editable": true
   },
   "outputs": [],
   "source": [
    "# TODO: Tune Parameters\n",
    "epochs = 15\n",
    "batch_size = 512\n",
    "keep_probability = 0.6"
   ]
  },
  {
   "cell_type": "markdown",
   "metadata": {
    "deletable": true,
    "editable": true
   },
   "source": [
    "### Train on a Single CIFAR-10 Batch\n",
    "Instead of training the neural network on all the CIFAR-10 batches of data, let's use a single batch. This should save time while you iterate on the model to get a better accuracy.  Once the final validation accuracy is 50% or greater, run the model on all the data in the next section."
   ]
  },
  {
   "cell_type": "code",
   "execution_count": 97,
   "metadata": {
    "collapsed": false,
    "deletable": true,
    "editable": true
   },
   "outputs": [
    {
     "name": "stdout",
     "output_type": "stream",
     "text": [
      "Checking the Training on a Single Batch...\n",
      "Epoch  1, CIFAR-10 Batch 1:  Loss:          2.2161 Validation Accuracy: 0.2276\n",
      "Epoch  2, CIFAR-10 Batch 1:  Loss:          2.1649 Validation Accuracy: 0.3016\n",
      "Epoch  3, CIFAR-10 Batch 1:  Loss:          2.1198 Validation Accuracy: 0.3424\n",
      "Epoch  4, CIFAR-10 Batch 1:  Loss:          2.0618 Validation Accuracy: 0.3722\n",
      "Epoch  5, CIFAR-10 Batch 1:  Loss:          2.0389 Validation Accuracy: 0.3838\n",
      "Epoch  6, CIFAR-10 Batch 1:  Loss:          2.0034 Validation Accuracy: 0.4028\n",
      "Epoch  7, CIFAR-10 Batch 1:  Loss:          1.9745 Validation Accuracy: 0.4208\n",
      "Epoch  8, CIFAR-10 Batch 1:  Loss:          1.9812 Validation Accuracy: 0.4302\n",
      "Epoch  9, CIFAR-10 Batch 1:  Loss:          1.9302 Validation Accuracy: 0.4488\n",
      "Epoch 10, CIFAR-10 Batch 1:  Loss:          1.9186 Validation Accuracy: 0.4582\n",
      "Epoch 11, CIFAR-10 Batch 1:  Loss:          1.9058 Validation Accuracy: 0.4638\n",
      "Epoch 12, CIFAR-10 Batch 1:  Loss:          1.8946 Validation Accuracy: 0.4642\n",
      "Epoch 13, CIFAR-10 Batch 1:  Loss:          1.8663 Validation Accuracy: 0.4754\n",
      "Epoch 14, CIFAR-10 Batch 1:  Loss:          1.8668 Validation Accuracy: 0.4810\n",
      "Epoch 15, CIFAR-10 Batch 1:  Loss:          1.8470 Validation Accuracy: 0.4862\n"
     ]
    }
   ],
   "source": [
    "\"\"\"\n",
    "DON'T MODIFY ANYTHING IN THIS CELL\n",
    "\"\"\"\n",
    "print('Checking the Training on a Single Batch...')\n",
    "with tf.Session() as sess:\n",
    "    # Initializing the variables\n",
    "    sess.run(tf.global_variables_initializer())\n",
    "    \n",
    "    # Training cycle\n",
    "    for epoch in range(epochs):\n",
    "        batch_i = 1\n",
    "        for batch_features, batch_labels in helper.load_preprocess_training_batch(batch_i, batch_size):\n",
    "            train_neural_network(sess, optimizer, keep_probability, batch_features, batch_labels)\n",
    "        print('Epoch {:>2}, CIFAR-10 Batch {}:  '.format(epoch + 1, batch_i), end='')\n",
    "        print_stats(sess, batch_features, batch_labels, cost, accuracy)"
   ]
  },
  {
   "cell_type": "markdown",
   "metadata": {
    "deletable": true,
    "editable": true
   },
   "source": [
    "### Fully Train the Model\n",
    "Now that you got a good accuracy with a single CIFAR-10 batch, try it with all five batches."
   ]
  },
  {
   "cell_type": "code",
   "execution_count": 58,
   "metadata": {
    "collapsed": false,
    "deletable": true,
    "editable": true
   },
   "outputs": [
    {
     "name": "stdout",
     "output_type": "stream",
     "text": [
      "Training...\n",
      "Epoch  1, CIFAR-10 Batch 1:  Loss:          2.2694 Validation Accuracy: 0.2272\n",
      "Epoch  1, CIFAR-10 Batch 2:  Loss:          2.2080 Validation Accuracy: 0.2462\n",
      "Epoch  1, CIFAR-10 Batch 3:  Loss:          2.1244 Validation Accuracy: 0.2754\n",
      "Epoch  1, CIFAR-10 Batch 4:  Loss:          2.1200 Validation Accuracy: 0.2920\n",
      "Epoch  1, CIFAR-10 Batch 5:  Loss:          2.1078 Validation Accuracy: 0.3558\n",
      "Epoch  2, CIFAR-10 Batch 1:  Loss:          2.1577 Validation Accuracy: 0.3834\n",
      "Epoch  2, CIFAR-10 Batch 2:  Loss:          2.0601 Validation Accuracy: 0.4006\n",
      "Epoch  2, CIFAR-10 Batch 3:  Loss:          1.9262 Validation Accuracy: 0.4254\n",
      "Epoch  2, CIFAR-10 Batch 4:  Loss:          2.0082 Validation Accuracy: 0.4238\n",
      "Epoch  2, CIFAR-10 Batch 5:  Loss:          2.0446 Validation Accuracy: 0.4370\n",
      "Epoch  3, CIFAR-10 Batch 1:  Loss:          2.0238 Validation Accuracy: 0.4574\n",
      "Epoch  3, CIFAR-10 Batch 2:  Loss:          1.9679 Validation Accuracy: 0.4528\n",
      "Epoch  3, CIFAR-10 Batch 3:  Loss:          1.8964 Validation Accuracy: 0.4716\n",
      "Epoch  3, CIFAR-10 Batch 4:  Loss:          1.9449 Validation Accuracy: 0.4734\n",
      "Epoch  3, CIFAR-10 Batch 5:  Loss:          2.0095 Validation Accuracy: 0.4818\n",
      "Epoch  4, CIFAR-10 Batch 1:  Loss:          1.9396 Validation Accuracy: 0.4916\n",
      "Epoch  4, CIFAR-10 Batch 2:  Loss:          1.9902 Validation Accuracy: 0.4488\n",
      "Epoch  4, CIFAR-10 Batch 3:  Loss:          1.8744 Validation Accuracy: 0.4980\n",
      "Epoch  4, CIFAR-10 Batch 4:  Loss:          1.8732 Validation Accuracy: 0.5054\n",
      "Epoch  4, CIFAR-10 Batch 5:  Loss:          1.9488 Validation Accuracy: 0.4964\n",
      "Epoch  5, CIFAR-10 Batch 1:  Loss:          1.9064 Validation Accuracy: 0.5106\n",
      "Epoch  5, CIFAR-10 Batch 2:  Loss:          1.8754 Validation Accuracy: 0.5138\n",
      "Epoch  5, CIFAR-10 Batch 3:  Loss:          1.8288 Validation Accuracy: 0.5178\n",
      "Epoch  5, CIFAR-10 Batch 4:  Loss:          1.8837 Validation Accuracy: 0.5152\n",
      "Epoch  5, CIFAR-10 Batch 5:  Loss:          1.9106 Validation Accuracy: 0.5258\n",
      "Epoch  6, CIFAR-10 Batch 1:  Loss:          1.8816 Validation Accuracy: 0.5186\n",
      "Epoch  6, CIFAR-10 Batch 2:  Loss:          1.8952 Validation Accuracy: 0.5174\n",
      "Epoch  6, CIFAR-10 Batch 3:  Loss:          1.7861 Validation Accuracy: 0.5286\n",
      "Epoch  6, CIFAR-10 Batch 4:  Loss:          1.8548 Validation Accuracy: 0.5310\n",
      "Epoch  6, CIFAR-10 Batch 5:  Loss:          1.8730 Validation Accuracy: 0.5296\n",
      "Epoch  7, CIFAR-10 Batch 1:  Loss:          1.8600 Validation Accuracy: 0.5364\n",
      "Epoch  7, CIFAR-10 Batch 2:  Loss:          1.8438 Validation Accuracy: 0.5144\n",
      "Epoch  7, CIFAR-10 Batch 3:  Loss:          1.8079 Validation Accuracy: 0.5318\n",
      "Epoch  7, CIFAR-10 Batch 4:  Loss:          1.8228 Validation Accuracy: 0.5530\n",
      "Epoch  7, CIFAR-10 Batch 5:  Loss:          1.8370 Validation Accuracy: 0.5392\n",
      "Epoch  8, CIFAR-10 Batch 1:  Loss:          1.8249 Validation Accuracy: 0.5390\n",
      "Epoch  8, CIFAR-10 Batch 2:  Loss:          1.8130 Validation Accuracy: 0.5506\n",
      "Epoch  8, CIFAR-10 Batch 3:  Loss:          1.7773 Validation Accuracy: 0.5540\n",
      "Epoch  8, CIFAR-10 Batch 4:  Loss:          1.8103 Validation Accuracy: 0.5512\n",
      "Epoch  8, CIFAR-10 Batch 5:  Loss:          1.8619 Validation Accuracy: 0.5446\n",
      "Epoch  9, CIFAR-10 Batch 1:  Loss:          1.8291 Validation Accuracy: 0.5420\n",
      "Epoch  9, CIFAR-10 Batch 2:  Loss:          1.8358 Validation Accuracy: 0.5456\n",
      "Epoch  9, CIFAR-10 Batch 3:  Loss:          1.7618 Validation Accuracy: 0.5656\n",
      "Epoch  9, CIFAR-10 Batch 4:  Loss:          1.7837 Validation Accuracy: 0.5590\n",
      "Epoch  9, CIFAR-10 Batch 5:  Loss:          1.8240 Validation Accuracy: 0.5572\n",
      "Epoch 10, CIFAR-10 Batch 1:  Loss:          1.8271 Validation Accuracy: 0.5516\n",
      "Epoch 10, CIFAR-10 Batch 2:  Loss:          1.8076 Validation Accuracy: 0.5456\n",
      "Epoch 10, CIFAR-10 Batch 3:  Loss:          1.7132 Validation Accuracy: 0.5678\n",
      "Epoch 10, CIFAR-10 Batch 4:  Loss:          1.7727 Validation Accuracy: 0.5582\n",
      "Epoch 10, CIFAR-10 Batch 5:  Loss:          1.8223 Validation Accuracy: 0.5594\n",
      "Epoch 11, CIFAR-10 Batch 1:  Loss:          1.8176 Validation Accuracy: 0.5540\n",
      "Epoch 11, CIFAR-10 Batch 2:  Loss:          1.7779 Validation Accuracy: 0.5674\n",
      "Epoch 11, CIFAR-10 Batch 3:  Loss:          1.7339 Validation Accuracy: 0.5326\n",
      "Epoch 11, CIFAR-10 Batch 4:  Loss:          1.7850 Validation Accuracy: 0.5510\n",
      "Epoch 11, CIFAR-10 Batch 5:  Loss:          1.8487 Validation Accuracy: 0.5764\n",
      "Epoch 12, CIFAR-10 Batch 1:  Loss:          1.7970 Validation Accuracy: 0.5644\n",
      "Epoch 12, CIFAR-10 Batch 2:  Loss:          1.7455 Validation Accuracy: 0.5764\n",
      "Epoch 12, CIFAR-10 Batch 3:  Loss:          1.6830 Validation Accuracy: 0.5696\n",
      "Epoch 12, CIFAR-10 Batch 4:  Loss:          1.7167 Validation Accuracy: 0.5744\n",
      "Epoch 12, CIFAR-10 Batch 5:  Loss:          1.8802 Validation Accuracy: 0.5664\n",
      "Epoch 13, CIFAR-10 Batch 1:  Loss:          1.7588 Validation Accuracy: 0.5664\n",
      "Epoch 13, CIFAR-10 Batch 2:  Loss:          1.7444 Validation Accuracy: 0.5736\n",
      "Epoch 13, CIFAR-10 Batch 3:  Loss:          1.7013 Validation Accuracy: 0.5782\n",
      "Epoch 13, CIFAR-10 Batch 4:  Loss:          1.7180 Validation Accuracy: 0.5848\n",
      "Epoch 13, CIFAR-10 Batch 5:  Loss:          1.8278 Validation Accuracy: 0.5878\n",
      "Epoch 14, CIFAR-10 Batch 1:  Loss:          1.7695 Validation Accuracy: 0.5810\n",
      "Epoch 14, CIFAR-10 Batch 2:  Loss:          1.7289 Validation Accuracy: 0.5758\n",
      "Epoch 14, CIFAR-10 Batch 3:  Loss:          1.6586 Validation Accuracy: 0.5864\n",
      "Epoch 14, CIFAR-10 Batch 4:  Loss:          1.7016 Validation Accuracy: 0.5788\n",
      "Epoch 14, CIFAR-10 Batch 5:  Loss:          1.7903 Validation Accuracy: 0.5818\n",
      "Epoch 15, CIFAR-10 Batch 1:  Loss:          1.7298 Validation Accuracy: 0.5790\n",
      "Epoch 15, CIFAR-10 Batch 2:  Loss:          1.7249 Validation Accuracy: 0.5910\n",
      "Epoch 15, CIFAR-10 Batch 3:  Loss:          1.6215 Validation Accuracy: 0.5878\n",
      "Epoch 15, CIFAR-10 Batch 4:  Loss:          1.6799 Validation Accuracy: 0.5948\n",
      "Epoch 15, CIFAR-10 Batch 5:  Loss:          1.7761 Validation Accuracy: 0.5846\n",
      "Epoch 16, CIFAR-10 Batch 1:  Loss:          1.7553 Validation Accuracy: 0.5830\n",
      "Epoch 16, CIFAR-10 Batch 2:  Loss:          1.7992 Validation Accuracy: 0.5812\n",
      "Epoch 16, CIFAR-10 Batch 3:  Loss:          1.6353 Validation Accuracy: 0.5924\n",
      "Epoch 16, CIFAR-10 Batch 4:  Loss:          1.6822 Validation Accuracy: 0.5884\n",
      "Epoch 16, CIFAR-10 Batch 5:  Loss:          1.8012 Validation Accuracy: 0.5922\n",
      "Epoch 17, CIFAR-10 Batch 1:  Loss:          1.7638 Validation Accuracy: 0.6038\n",
      "Epoch 17, CIFAR-10 Batch 2:  Loss:          1.6886 Validation Accuracy: 0.6034\n",
      "Epoch 17, CIFAR-10 Batch 3:  Loss:          1.6154 Validation Accuracy: 0.5988\n",
      "Epoch 17, CIFAR-10 Batch 4:  Loss:          1.6967 Validation Accuracy: 0.5892\n",
      "Epoch 17, CIFAR-10 Batch 5:  Loss:          1.7412 Validation Accuracy: 0.5934\n",
      "Epoch 18, CIFAR-10 Batch 1:  Loss:          1.7229 Validation Accuracy: 0.5944\n",
      "Epoch 18, CIFAR-10 Batch 2:  Loss:          1.7061 Validation Accuracy: 0.5796\n",
      "Epoch 18, CIFAR-10 Batch 3:  Loss:          1.5863 Validation Accuracy: 0.6002\n",
      "Epoch 18, CIFAR-10 Batch 4:  Loss:          1.6861 Validation Accuracy: 0.5978\n",
      "Epoch 18, CIFAR-10 Batch 5:  Loss:          1.6809 Validation Accuracy: 0.5984\n",
      "Epoch 19, CIFAR-10 Batch 1:  Loss:          1.7538 Validation Accuracy: 0.5958\n",
      "Epoch 19, CIFAR-10 Batch 2:  Loss:          1.7098 Validation Accuracy: 0.5912\n",
      "Epoch 19, CIFAR-10 Batch 3:  Loss:          1.6104 Validation Accuracy: 0.5986\n",
      "Epoch 19, CIFAR-10 Batch 4:  Loss:          1.6431 Validation Accuracy: 0.6014\n",
      "Epoch 19, CIFAR-10 Batch 5:  Loss:          1.7014 Validation Accuracy: 0.5998\n",
      "Epoch 20, CIFAR-10 Batch 1:  Loss:          1.7230 Validation Accuracy: 0.6006\n",
      "Epoch 20, CIFAR-10 Batch 2:  Loss:          1.6984 Validation Accuracy: 0.6142\n",
      "Epoch 20, CIFAR-10 Batch 3:  Loss:          1.5820 Validation Accuracy: 0.6118\n",
      "Epoch 20, CIFAR-10 Batch 4:  Loss:          1.6381 Validation Accuracy: 0.6152\n",
      "Epoch 20, CIFAR-10 Batch 5:  Loss:          1.7063 Validation Accuracy: 0.6010\n",
      "Epoch 21, CIFAR-10 Batch 1:  Loss:          1.7103 Validation Accuracy: 0.6068\n",
      "Epoch 21, CIFAR-10 Batch 2:  Loss:          1.6612 Validation Accuracy: 0.6128\n",
      "Epoch 21, CIFAR-10 Batch 3:  Loss:          1.6009 Validation Accuracy: 0.6086\n",
      "Epoch 21, CIFAR-10 Batch 4:  Loss:          1.6909 Validation Accuracy: 0.6028\n",
      "Epoch 21, CIFAR-10 Batch 5:  Loss:          1.7082 Validation Accuracy: 0.6016\n",
      "Epoch 22, CIFAR-10 Batch 1:  Loss:          1.7446 Validation Accuracy: 0.6054\n",
      "Epoch 22, CIFAR-10 Batch 2:  Loss:          1.6778 Validation Accuracy: 0.5978\n",
      "Epoch 22, CIFAR-10 Batch 3:  Loss:          1.6125 Validation Accuracy: 0.5948\n",
      "Epoch 22, CIFAR-10 Batch 4:  Loss:          1.6521 Validation Accuracy: 0.5860\n",
      "Epoch 22, CIFAR-10 Batch 5:  Loss:          1.6432 Validation Accuracy: 0.6148\n",
      "Epoch 23, CIFAR-10 Batch 1:  Loss:          1.7014 Validation Accuracy: 0.6088\n",
      "Epoch 23, CIFAR-10 Batch 2:  Loss:          1.6866 Validation Accuracy: 0.6180\n",
      "Epoch 23, CIFAR-10 Batch 3:  Loss:          1.6012 Validation Accuracy: 0.5980\n",
      "Epoch 23, CIFAR-10 Batch 4:  Loss:          1.6317 Validation Accuracy: 0.5852\n",
      "Epoch 23, CIFAR-10 Batch 5:  Loss:          1.6509 Validation Accuracy: 0.6100\n",
      "Epoch 24, CIFAR-10 Batch 1:  Loss:          1.7190 Validation Accuracy: 0.6124\n",
      "Epoch 24, CIFAR-10 Batch 2:  Loss:          1.6712 Validation Accuracy: 0.6018\n",
      "Epoch 24, CIFAR-10 Batch 3:  Loss:          1.6259 Validation Accuracy: 0.5992\n",
      "Epoch 24, CIFAR-10 Batch 4:  Loss:          1.6277 Validation Accuracy: 0.6122\n",
      "Epoch 24, CIFAR-10 Batch 5:  Loss:          1.6001 Validation Accuracy: 0.6096\n",
      "Epoch 25, CIFAR-10 Batch 1:  Loss:          1.7059 Validation Accuracy: 0.6064\n",
      "Epoch 25, CIFAR-10 Batch 2:  Loss:          1.6608 Validation Accuracy: 0.6122\n",
      "Epoch 25, CIFAR-10 Batch 3:  Loss:          1.5942 Validation Accuracy: 0.6072\n",
      "Epoch 25, CIFAR-10 Batch 4:  Loss:          1.5928 Validation Accuracy: 0.6208\n",
      "Epoch 25, CIFAR-10 Batch 5:  Loss:          1.6549 Validation Accuracy: 0.5946\n",
      "Epoch 26, CIFAR-10 Batch 1:  Loss:          1.6760 Validation Accuracy: 0.6066\n",
      "Epoch 26, CIFAR-10 Batch 2:  Loss:          1.6544 Validation Accuracy: 0.6194\n",
      "Epoch 26, CIFAR-10 Batch 3:  Loss:          1.6171 Validation Accuracy: 0.6112\n",
      "Epoch 26, CIFAR-10 Batch 4:  Loss:          1.5977 Validation Accuracy: 0.6110\n",
      "Epoch 26, CIFAR-10 Batch 5:  Loss:          1.6126 Validation Accuracy: 0.6138\n",
      "Epoch 27, CIFAR-10 Batch 1:  Loss:          1.6871 Validation Accuracy: 0.6154\n",
      "Epoch 27, CIFAR-10 Batch 2:  Loss:          1.6369 Validation Accuracy: 0.6154\n",
      "Epoch 27, CIFAR-10 Batch 3:  Loss:          1.5725 Validation Accuracy: 0.6218\n",
      "Epoch 27, CIFAR-10 Batch 4:  Loss:          1.5894 Validation Accuracy: 0.6120\n",
      "Epoch 27, CIFAR-10 Batch 5:  Loss:          1.6256 Validation Accuracy: 0.6014\n",
      "Epoch 28, CIFAR-10 Batch 1:  Loss:          1.6994 Validation Accuracy: 0.6182\n",
      "Epoch 28, CIFAR-10 Batch 2:  Loss:          1.6621 Validation Accuracy: 0.6092\n",
      "Epoch 28, CIFAR-10 Batch 3:  Loss:          1.5823 Validation Accuracy: 0.6206\n",
      "Epoch 28, CIFAR-10 Batch 4:  Loss:          1.6243 Validation Accuracy: 0.6030\n",
      "Epoch 28, CIFAR-10 Batch 5:  Loss:          1.5894 Validation Accuracy: 0.6204\n",
      "Epoch 29, CIFAR-10 Batch 1:  Loss:          1.6768 Validation Accuracy: 0.6128\n",
      "Epoch 29, CIFAR-10 Batch 2:  Loss:          1.6776 Validation Accuracy: 0.6158\n",
      "Epoch 29, CIFAR-10 Batch 3:  Loss:          1.5620 Validation Accuracy: 0.6260\n",
      "Epoch 29, CIFAR-10 Batch 4:  Loss:          1.5921 Validation Accuracy: 0.6200\n",
      "Epoch 29, CIFAR-10 Batch 5:  Loss:          1.6278 Validation Accuracy: 0.6004\n",
      "Epoch 30, CIFAR-10 Batch 1:  Loss:          1.7030 Validation Accuracy: 0.6228\n",
      "Epoch 30, CIFAR-10 Batch 2:  Loss:          1.6436 Validation Accuracy: 0.6146\n",
      "Epoch 30, CIFAR-10 Batch 3:  Loss:          1.5760 Validation Accuracy: 0.6076\n",
      "Epoch 30, CIFAR-10 Batch 4:  Loss:          1.5746 Validation Accuracy: 0.6106\n",
      "Epoch 30, CIFAR-10 Batch 5:  Loss:          1.6086 Validation Accuracy: 0.6282\n",
      "Epoch 31, CIFAR-10 Batch 1:  Loss:          1.7144 Validation Accuracy: 0.6186\n",
      "Epoch 31, CIFAR-10 Batch 2:  Loss:          1.6560 Validation Accuracy: 0.6252\n",
      "Epoch 31, CIFAR-10 Batch 3:  Loss:          1.5745 Validation Accuracy: 0.6170\n",
      "Epoch 31, CIFAR-10 Batch 4:  Loss:          1.5942 Validation Accuracy: 0.6208\n",
      "Epoch 31, CIFAR-10 Batch 5:  Loss:          1.5852 Validation Accuracy: 0.6244\n",
      "Epoch 32, CIFAR-10 Batch 1:  Loss:          1.6773 Validation Accuracy: 0.6198\n",
      "Epoch 32, CIFAR-10 Batch 2:  Loss:          1.6390 Validation Accuracy: 0.6208\n",
      "Epoch 32, CIFAR-10 Batch 3:  Loss:          1.5670 Validation Accuracy: 0.6192\n",
      "Epoch 32, CIFAR-10 Batch 4:  Loss:          1.5961 Validation Accuracy: 0.6190\n",
      "Epoch 32, CIFAR-10 Batch 5:  Loss:          1.5675 Validation Accuracy: 0.6332\n",
      "Epoch 33, CIFAR-10 Batch 1:  Loss:          1.6643 Validation Accuracy: 0.6156\n",
      "Epoch 33, CIFAR-10 Batch 2:  Loss:          1.6690 Validation Accuracy: 0.6186\n",
      "Epoch 33, CIFAR-10 Batch 3:  Loss:          1.5565 Validation Accuracy: 0.6332\n",
      "Epoch 33, CIFAR-10 Batch 4:  Loss:          1.5858 Validation Accuracy: 0.6216\n",
      "Epoch 33, CIFAR-10 Batch 5:  Loss:          1.5659 Validation Accuracy: 0.6232\n",
      "Epoch 34, CIFAR-10 Batch 1:  Loss:          1.6784 Validation Accuracy: 0.6302\n",
      "Epoch 34, CIFAR-10 Batch 2:  Loss:          1.6234 Validation Accuracy: 0.6222\n",
      "Epoch 34, CIFAR-10 Batch 3:  Loss:          1.5683 Validation Accuracy: 0.6364\n",
      "Epoch 34, CIFAR-10 Batch 4:  Loss:          1.5806 Validation Accuracy: 0.6288\n",
      "Epoch 34, CIFAR-10 Batch 5:  Loss:          1.5543 Validation Accuracy: 0.6302\n",
      "Epoch 35, CIFAR-10 Batch 1:  Loss:          1.6527 Validation Accuracy: 0.6190\n",
      "Epoch 35, CIFAR-10 Batch 2:  Loss:          1.6128 Validation Accuracy: 0.6216\n",
      "Epoch 35, CIFAR-10 Batch 3:  Loss:          1.5744 Validation Accuracy: 0.6124\n",
      "Epoch 35, CIFAR-10 Batch 4:  Loss:          1.5529 Validation Accuracy: 0.6200\n",
      "Epoch 35, CIFAR-10 Batch 5:  Loss:          1.5538 Validation Accuracy: 0.6230\n",
      "Epoch 36, CIFAR-10 Batch 1:  Loss:          1.6624 Validation Accuracy: 0.6316\n",
      "Epoch 36, CIFAR-10 Batch 2:  Loss:          1.6123 Validation Accuracy: 0.6176\n",
      "Epoch 36, CIFAR-10 Batch 3:  Loss:          1.5622 Validation Accuracy: 0.6238\n",
      "Epoch 36, CIFAR-10 Batch 4:  Loss:          1.5801 Validation Accuracy: 0.6234\n",
      "Epoch 36, CIFAR-10 Batch 5:  Loss:          1.5632 Validation Accuracy: 0.6272\n",
      "Epoch 37, CIFAR-10 Batch 1:  Loss:          1.6979 Validation Accuracy: 0.5912\n",
      "Epoch 37, CIFAR-10 Batch 2:  Loss:          1.6084 Validation Accuracy: 0.6312\n",
      "Epoch 37, CIFAR-10 Batch 3:  Loss:          1.5626 Validation Accuracy: 0.6282\n",
      "Epoch 37, CIFAR-10 Batch 4:  Loss:          1.5761 Validation Accuracy: 0.6144\n",
      "Epoch 37, CIFAR-10 Batch 5:  Loss:          1.5474 Validation Accuracy: 0.6280\n",
      "Epoch 38, CIFAR-10 Batch 1:  Loss:          1.6901 Validation Accuracy: 0.6164\n",
      "Epoch 38, CIFAR-10 Batch 2:  Loss:          1.5917 Validation Accuracy: 0.6200\n",
      "Epoch 38, CIFAR-10 Batch 3:  Loss:          1.5837 Validation Accuracy: 0.6346\n",
      "Epoch 38, CIFAR-10 Batch 4:  Loss:          1.5675 Validation Accuracy: 0.6152\n",
      "Epoch 38, CIFAR-10 Batch 5:  Loss:          1.5505 Validation Accuracy: 0.6226\n",
      "Epoch 39, CIFAR-10 Batch 1:  Loss:          1.6750 Validation Accuracy: 0.6266\n",
      "Epoch 39, CIFAR-10 Batch 2:  Loss:          1.6409 Validation Accuracy: 0.6226\n",
      "Epoch 39, CIFAR-10 Batch 3:  Loss:          1.5734 Validation Accuracy: 0.6294\n",
      "Epoch 39, CIFAR-10 Batch 4:  Loss:          1.5599 Validation Accuracy: 0.6284\n",
      "Epoch 39, CIFAR-10 Batch 5:  Loss:          1.5683 Validation Accuracy: 0.6300\n",
      "Epoch 40, CIFAR-10 Batch 1:  Loss:          1.7027 Validation Accuracy: 0.6286\n",
      "Epoch 40, CIFAR-10 Batch 2:  Loss:          1.6155 Validation Accuracy: 0.6190\n",
      "Epoch 40, CIFAR-10 Batch 3:  Loss:          1.5686 Validation Accuracy: 0.6330\n",
      "Epoch 40, CIFAR-10 Batch 4:  Loss:          1.5597 Validation Accuracy: 0.6276\n",
      "Epoch 40, CIFAR-10 Batch 5:  Loss:          1.5470 Validation Accuracy: 0.6306\n"
     ]
    }
   ],
   "source": [
    "\"\"\"\n",
    "DON'T MODIFY ANYTHING IN THIS CELL\n",
    "\"\"\"\n",
    "save_model_path = './image_classification'\n",
    "\n",
    "print('Training...')\n",
    "with tf.Session() as sess:\n",
    "    # Initializing the variables\n",
    "    sess.run(tf.global_variables_initializer())\n",
    "    \n",
    "    # Training cycle\n",
    "    for epoch in range(epochs):\n",
    "        # Loop over all batches\n",
    "        n_batches = 5\n",
    "        for batch_i in range(1, n_batches + 1):\n",
    "            for batch_features, batch_labels in helper.load_preprocess_training_batch(batch_i, batch_size):\n",
    "                train_neural_network(sess, optimizer, keep_probability, batch_features, batch_labels)\n",
    "            print('Epoch {:>2}, CIFAR-10 Batch {}:  '.format(epoch + 1, batch_i), end='')\n",
    "            print_stats(sess, batch_features, batch_labels, cost, accuracy)\n",
    "            \n",
    "    # Save Model\n",
    "    saver = tf.train.Saver()\n",
    "    save_path = saver.save(sess, save_model_path)"
   ]
  },
  {
   "cell_type": "markdown",
   "metadata": {
    "deletable": true,
    "editable": true
   },
   "source": [
    "# Checkpoint\n",
    "The model has been saved to disk.\n",
    "## Test Model\n",
    "Test your model against the test dataset.  This will be your final accuracy. You should have an accuracy greater than 50%. If you don't, keep tweaking the model architecture and parameters."
   ]
  },
  {
   "cell_type": "code",
   "execution_count": 59,
   "metadata": {
    "collapsed": false,
    "deletable": true,
    "editable": true
   },
   "outputs": [
    {
     "name": "stdout",
     "output_type": "stream",
     "text": [
      "Testing Accuracy: 0.6384765625\n",
      "\n"
     ]
    },
    {
     "data": {
      "image/png": "[encoded data removed]",
      "text/plain": [
       "<matplotlib.figure.Figure at 0x11652edd8>"
      ]
     },
     "metadata": {
      "image/png": {
       "height": 319,
       "width": 355
      }
     },
     "output_type": "display_data"
    }
   ],
   "source": [
    "\"\"\"\n",
    "DON'T MODIFY ANYTHING IN THIS CELL\n",
    "\"\"\"\n",
    "%matplotlib inline\n",
    "%config InlineBackend.figure_format = 'retina'\n",
    "\n",
    "import tensorflow as tf\n",
    "import pickle\n",
    "import helper\n",
    "import random\n",
    "\n",
    "# Set batch size if not already set\n",
    "try:\n",
    "    if batch_size:\n",
    "        pass\n",
    "except NameError:\n",
    "    batch_size = 64\n",
    "\n",
    "save_model_path = './image_classification'\n",
    "n_samples = 4\n",
    "top_n_predictions = 3\n",
    "\n",
    "def test_model():\n",
    "    \"\"\"\n",
    "    Test the saved model against the test dataset\n",
    "    \"\"\"\n",
    "\n",
    "    test_features, test_labels = pickle.load(open('preprocess_training.p', mode='rb'))\n",
    "    loaded_graph = tf.Graph()\n",
    "\n",
    "    with tf.Session(graph=loaded_graph) as sess:\n",
    "        # Load model\n",
    "        loader = tf.train.import_meta_graph(save_model_path + '.meta')\n",
    "        loader.restore(sess, save_model_path)\n",
    "\n",
    "        # Get Tensors from loaded model\n",
    "        loaded_x = loaded_graph.get_tensor_by_name('x:0')\n",
    "        loaded_y = loaded_graph.get_tensor_by_name('y:0')\n",
    "        loaded_keep_prob = loaded_graph.get_tensor_by_name('keep_prob:0')\n",
    "        loaded_logits = loaded_graph.get_tensor_by_name('logits:0')\n",
    "        loaded_acc = loaded_graph.get_tensor_by_name('accuracy:0')\n",
    "        \n",
    "        # Get accuracy in batches for memory limitations\n",
    "        test_batch_acc_total = 0\n",
    "        test_batch_count = 0\n",
    "        \n",
    "        for train_feature_batch, train_label_batch in helper.batch_features_labels(test_features, test_labels, batch_size):\n",
    "            test_batch_acc_total += sess.run(\n",
    "                loaded_acc,\n",
    "                feed_dict={loaded_x: train_feature_batch, loaded_y: train_label_batch, loaded_keep_prob: 1.0})\n",
    "            test_batch_count += 1\n",
    "\n",
    "        print('Testing Accuracy: {}\\n'.format(test_batch_acc_total/test_batch_count))\n",
    "\n",
    "        # Print Random Samples\n",
    "        random_test_features, random_test_labels = tuple(zip(*random.sample(list(zip(test_features, test_labels)), n_samples)))\n",
    "        random_test_predictions = sess.run(\n",
    "            tf.nn.top_k(tf.nn.softmax(loaded_logits), top_n_predictions),\n",
    "            feed_dict={loaded_x: random_test_features, loaded_y: random_test_labels, loaded_keep_prob: 1.0})\n",
    "        helper.display_image_predictions(random_test_features, random_test_labels, random_test_predictions)\n",
    "\n",
    "\n",
    "test_model()"
   ]
  },
  {
   "cell_type": "markdown",
   "metadata": {
    "deletable": true,
    "editable": true
   },
   "source": [
    "## Why 50-70% Accuracy?\n",
    "You might be wondering why you can't get an accuracy any higher. First things first, 50% isn't bad for a simple CNN.  Pure guessing would get you 10% accuracy. However, you might notice people are getting scores [well above 70%](http://rodrigob.github.io/are_we_there_yet/build/classification_datasets_results.html#43494641522d3130).  That's because we haven't taught you all there is to know about neural networks. We still need to cover a few more techniques.\n",
    "## Submitting This Project\n",
    "When submitting this project, make sure to run all the cells before saving the notebook.  Save the notebook file as \"dlnd_image_classification.ipynb\" and save it as a HTML file under \"File\" -> \"Download as\".  Include the \"helper.py\" and \"problem_unittests.py\" files in your submission."
   ]
  }
 ],
 "metadata": {
  "anaconda-cloud": {},
  "kernelspec": {
   "display_name": "Python [default]",
   "language": "python",
   "name": "python3"
  },
  "language_info": {
   "codemirror_mode": {
    "name": "ipython",
    "version": 3
   },
   "file_extension": ".py",
   "mimetype": "text/x-python",
   "name": "python",
   "nbconvert_exporter": "python",
   "pygments_lexer": "ipython3",
   "version": "3.5.2"
  }
 },
 "nbformat": 4,
 "nbformat_minor": 0
}
