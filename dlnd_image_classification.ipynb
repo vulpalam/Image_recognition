{
 "cells": [
  {
   "cell_type": "markdown",
   "metadata": {
    "collapsed": true,
    "deletable": true,
    "editable": true
   },
   "source": [
    "# Image Classification\n",
    "In this project, you'll classify images from the [CIFAR-10 dataset](https://www.cs.toronto.edu/~kriz/cifar.html).  The dataset consists of airplanes, dogs, cats, and other objects. You'll preprocess the images, then train a convolutional neural network on all the samples. The images need to be normalized and the labels need to be one-hot encoded.  You'll get to apply what you learned and build a convolutional, max pooling, dropout, and fully connected layers.  At the end, you'll get to see your neural network's predictions on the sample images.\n",
    "## Get the Data\n",
    "Run the following cell to download the [CIFAR-10 dataset for python](https://www.cs.toronto.edu/~kriz/cifar-10-python.tar.gz)."
   ]
  },
  {
   "cell_type": "code",
   "execution_count": 1,
   "metadata": {
    "collapsed": false,
    "deletable": true,
    "editable": true
   },
   "outputs": [
    {
     "name": "stdout",
     "output_type": "stream",
     "text": [
      "All files found!\n"
     ]
    }
   ],
   "source": [
    "\"\"\"\n",
    "DON'T MODIFY ANYTHING IN THIS CELL THAT IS BELOW THIS LINE\n",
    "\"\"\"\n",
    "from urllib.request import urlretrieve\n",
    "from os.path import isfile, isdir\n",
    "from tqdm import tqdm\n",
    "import problem_unittests as tests\n",
    "import tarfile\n",
    "\n",
    "cifar10_dataset_folder_path = 'cifar-10-batches-py'\n",
    "\n",
    "class DLProgress(tqdm):\n",
    "    last_block = 0\n",
    "\n",
    "    def hook(self, block_num=1, block_size=1, total_size=None):\n",
    "        self.total = total_size\n",
    "        self.update((block_num - self.last_block) * block_size)\n",
    "        self.last_block = block_num\n",
    "\n",
    "if not isfile('cifar-10-python.tar.gz'):\n",
    "    with DLProgress(unit='B', unit_scale=True, miniters=1, desc='CIFAR-10 Dataset') as pbar:\n",
    "        urlretrieve(\n",
    "            'https://www.cs.toronto.edu/~kriz/cifar-10-python.tar.gz',\n",
    "            'cifar-10-python.tar.gz',\n",
    "            pbar.hook)\n",
    "\n",
    "if not isdir(cifar10_dataset_folder_path):\n",
    "    with tarfile.open('cifar-10-python.tar.gz') as tar:\n",
    "        tar.extractall()\n",
    "        tar.close()\n",
    "\n",
    "\n",
    "tests.test_folder_path(cifar10_dataset_folder_path)"
   ]
  },
  {
   "cell_type": "markdown",
   "metadata": {
    "deletable": true,
    "editable": true
   },
   "source": [
    "## Explore the Data\n",
    "The dataset is broken into batches to prevent your machine from running out of memory.  The CIFAR-10 dataset consists of 5 batches, named `data_batch_1`, `data_batch_2`, etc.. Each batch contains the labels and images that are one of the following:\n",
    "* airplane\n",
    "* automobile\n",
    "* bird\n",
    "* cat\n",
    "* deer\n",
    "* dog\n",
    "* frog\n",
    "* horse\n",
    "* ship\n",
    "* truck\n",
    "\n",
    "Understanding a dataset is part of making predictions on the data.  Play around with the code cell below by changing the `batch_id` and `sample_id`. The `batch_id` is the id for a batch (1-5). The `sample_id` is the id for a image and label pair in the batch.\n",
    "\n",
    "Ask yourself \"What are all possible labels?\", \"What is the range of values for the image data?\", \"Are the labels in order or random?\".  Answers to questions like these will help you preprocess the data and end up with better predictions."
   ]
  },
  {
   "cell_type": "code",
   "execution_count": 2,
   "metadata": {
    "collapsed": false,
    "deletable": true,
    "editable": true
   },
   "outputs": [
    {
     "name": "stdout",
     "output_type": "stream",
     "text": [
      "\n",
      "Stats of batch 3:\n",
      "Samples: 10000\n",
      "Label Counts: {0: 994, 1: 1042, 2: 965, 3: 997, 4: 990, 5: 1029, 6: 978, 7: 1015, 8: 961, 9: 1029}\n",
      "First 20 Labels: [8, 5, 0, 6, 9, 2, 8, 3, 6, 2, 7, 4, 6, 9, 0, 0, 7, 3, 7, 2]\n",
      "\n",
      "Example of Image 501:\n",
      "Image - Min Value: 24 Max Value: 241\n",
      "Image - Shape: (32, 32, 3)\n",
      "Label - Label Id: 6 Name: frog\n"
     ]
    },
    {
     "data": {
      "image/png": "[encoded data removed]",
      "text/plain": [
       "<matplotlib.figure.Figure at 0x1173fd7f0>"
      ]
     },
     "metadata": {
      "image/png": {
       "height": 250,
       "width": 253
      }
     },
     "output_type": "display_data"
    }
   ],
   "source": [
    "%matplotlib inline\n",
    "%config InlineBackend.figure_format = 'retina'\n",
    "\n",
    "import helper\n",
    "import numpy as np\n",
    "\n",
    "# Explore the dataset\n",
    "batch_id = 3\n",
    "sample_id = 501\n",
    "helper.display_stats(cifar10_dataset_folder_path, batch_id, sample_id)"
   ]
  },
  {
   "cell_type": "markdown",
   "metadata": {
    "deletable": true,
    "editable": true
   },
   "source": [
    "## Implement Preprocess Functions\n",
    "### Normalize\n",
    "In the cell below, implement the `normalize` function to take in image data, `x`, and return it as a normalized Numpy array. The values should be in the range of 0 to 1, inclusive.  The return object should be the same shape as `x`."
   ]
  },
  {
   "cell_type": "code",
   "execution_count": 3,
   "metadata": {
    "collapsed": false,
    "deletable": true,
    "editable": true
   },
   "outputs": [
    {
     "name": "stdout",
     "output_type": "stream",
     "text": [
      "Tests Passed\n"
     ]
    }
   ],
   "source": [
    "def normalize(x):\n",
    "    \"\"\"\n",
    "    Normalize a list of sample image data in the range of 0 to 1\n",
    "    : x: List of image data.  The image shape is (32, 32, 3)\n",
    "    : return: Numpy array of normalize data\n",
    "    \"\"\"\n",
    "    # TODO: Implement Function\n",
    "    x = x.astype('float32')\n",
    "    if x.max() > 1.0:\n",
    "        x/=255.0\n",
    "    return x\n",
    "\n",
    "\n",
    "\"\"\"\n",
    "DON'T MODIFY ANYTHING IN THIS CELL THAT IS BELOW THIS LINE\n",
    "\"\"\"\n",
    "tests.test_normalize(normalize)"
   ]
  },
  {
   "cell_type": "markdown",
   "metadata": {
    "deletable": true,
    "editable": true
   },
   "source": [
    "### One-hot encode\n",
    "Just like the previous code cell, you'll be implementing a function for preprocessing.  This time, you'll implement the `one_hot_encode` function. The input, `x`, are a list of labels.  Implement the function to return the list of labels as One-Hot encoded Numpy array.  The possible values for labels are 0 to 9. The one-hot encoding function should return the same encoding for each value between each call to `one_hot_encode`.  Make sure to save the map of encodings outside the function.\n",
    "\n",
    "Hint: Don't reinvent the wheel."
   ]
  },
  {
   "cell_type": "code",
   "execution_count": 4,
   "metadata": {
    "collapsed": false,
    "deletable": true,
    "editable": true
   },
   "outputs": [
    {
     "name": "stdout",
     "output_type": "stream",
     "text": [
      "Tests Passed\n"
     ]
    }
   ],
   "source": [
    "def one_hot_encode(x):\n",
    "    \"\"\"\n",
    "    One hot encode a list of sample labels. Return a one-hot encoded vector for each label.\n",
    "    : x: List of sample Labels\n",
    "    : return: Numpy array of one-hot encoded labels\n",
    "    \"\"\"\n",
    "    # TODO: Implement Function\n",
    "    one_hot = np.eye(10)[x]\n",
    "    #print (len(one_hot))\n",
    "    return one_hot\n",
    "\n",
    "\"\"\"\n",
    "DON'T MODIFY ANYTHING IN THIS CELL THAT IS BELOW THIS LINE\n",
    "\"\"\"\n",
    "tests.test_one_hot_encode(one_hot_encode)"
   ]
  },
  {
   "cell_type": "markdown",
   "metadata": {
    "deletable": true,
    "editable": true
   },
   "source": [
    "### Randomize Data\n",
    "As you saw from exploring the data above, the order of the samples are randomized.  It doesn't hurt to randomize it again, but you don't need to for this dataset."
   ]
  },
  {
   "cell_type": "markdown",
   "metadata": {
    "deletable": true,
    "editable": true
   },
   "source": [
    "## Preprocess all the data and save it\n",
    "Running the code cell below will preprocess all the CIFAR-10 data and save it to file. The code below also uses 10% of the training data for validation."
   ]
  },
  {
   "cell_type": "code",
   "execution_count": 5,
   "metadata": {
    "collapsed": false,
    "deletable": true,
    "editable": true
   },
   "outputs": [],
   "source": [
    "\"\"\"\n",
    "DON'T MODIFY ANYTHING IN THIS CELL\n",
    "\"\"\"\n",
    "# Preprocess Training, Validation, and Testing Data\n",
    "helper.preprocess_and_save_data(cifar10_dataset_folder_path, normalize, one_hot_encode)"
   ]
  },
  {
   "cell_type": "markdown",
   "metadata": {
    "deletable": true,
    "editable": true
   },
   "source": [
    "# Check Point\n",
    "This is your first checkpoint.  If you ever decide to come back to this notebook or have to restart the notebook, you can start from here.  The preprocessed data has been saved to disk."
   ]
  },
  {
   "cell_type": "code",
   "execution_count": 6,
   "metadata": {
    "collapsed": true,
    "deletable": true,
    "editable": true
   },
   "outputs": [],
   "source": [
    "\"\"\"\n",
    "DON'T MODIFY ANYTHING IN THIS CELL\n",
    "\"\"\"\n",
    "import pickle\n",
    "import problem_unittests as tests\n",
    "import helper\n",
    "\n",
    "# Load the Preprocessed Validation data\n",
    "valid_features, valid_labels = pickle.load(open('preprocess_validation.p', mode='rb'))"
   ]
  },
  {
   "cell_type": "markdown",
   "metadata": {
    "deletable": true,
    "editable": true
   },
   "source": [
    "## Build the network\n",
    "For the neural network, you'll build each layer into a function.  Most of the code you've seen has been outside of functions. To test your code more thoroughly, we require that you put each layer in a function.  This allows us to give you better feedback and test for simple mistakes using our unittests before you submit your project.\n",
    "\n",
    ">**Note:** If you're finding it hard to dedicate enough time for this course each week, we've provided a small shortcut to this part of the project. In the next couple of problems, you'll have the option to use classes from the [TensorFlow Layers](https://www.tensorflow.org/api_docs/python/tf/layers) or [TensorFlow Layers (contrib)](https://www.tensorflow.org/api_guides/python/contrib.layers) packages to build each layer, except the layers you build in the \"Convolutional and Max Pooling Layer\" section.  TF Layers is similar to Keras's and TFLearn's abstraction to layers, so it's easy to pickup.\n",
    "\n",
    ">However, if you would like to get the most out of this course, try to solve all the problems _without_ using anything from the TF Layers packages. You **can** still use classes from other packages that happen to have the same name as ones you find in TF Layers! For example, instead of using the TF Layers version of the `conv2d` class, [tf.layers.conv2d](https://www.tensorflow.org/api_docs/python/tf/layers/conv2d), you would want to use the TF Neural Network version of `conv2d`, [tf.nn.conv2d](https://www.tensorflow.org/api_docs/python/tf/nn/conv2d). \n",
    "\n",
    "Let's begin!\n",
    "\n",
    "### Input\n",
    "The neural network needs to read the image data, one-hot encoded labels, and dropout keep probability. Implement the following functions\n",
    "* Implement `neural_net_image_input`\n",
    " * Return a [TF Placeholder](https://www.tensorflow.org/api_docs/python/tf/placeholder)\n",
    " * Set the shape using `image_shape` with batch size set to `None`.\n",
    " * Name the TensorFlow placeholder \"x\" using the TensorFlow `name` parameter in the [TF Placeholder](https://www.tensorflow.org/api_docs/python/tf/placeholder).\n",
    "* Implement `neural_net_label_input`\n",
    " * Return a [TF Placeholder](https://www.tensorflow.org/api_docs/python/tf/placeholder)\n",
    " * Set the shape using `n_classes` with batch size set to `None`.\n",
    " * Name the TensorFlow placeholder \"y\" using the TensorFlow `name` parameter in the [TF Placeholder](https://www.tensorflow.org/api_docs/python/tf/placeholder).\n",
    "* Implement `neural_net_keep_prob_input`\n",
    " * Return a [TF Placeholder](https://www.tensorflow.org/api_docs/python/tf/placeholder) for dropout keep probability.\n",
    " * Name the TensorFlow placeholder \"keep_prob\" using the TensorFlow `name` parameter in the [TF Placeholder](https://www.tensorflow.org/api_docs/python/tf/placeholder).\n",
    "\n",
    "These names will be used at the end of the project to load your saved model.\n",
    "\n",
    "Note: `None` for shapes in TensorFlow allow for a dynamic size."
   ]
  },
  {
   "cell_type": "code",
   "execution_count": 7,
   "metadata": {
    "collapsed": false,
    "deletable": true,
    "editable": true
   },
   "outputs": [
    {
     "name": "stdout",
     "output_type": "stream",
     "text": [
      "Image Input Tests Passed.\n",
      "Label Input Tests Passed.\n",
      "Keep Prob Tests Passed.\n"
     ]
    }
   ],
   "source": [
    "import tensorflow as tf\n",
    "\n",
    "def neural_net_image_input(image_shape):\n",
    "    \"\"\"\n",
    "    Return a Tensor for a bach of image input\n",
    "    : image_shape: Shape of the images\n",
    "    : return: Tensor for image input.\n",
    "    \"\"\"\n",
    "    # TODO: Implement Function\n",
    "    x = tf.placeholder(tf.float32, (None, image_shape[0], image_shape[1], image_shape[2]) ,name ='x')\n",
    "    return x\n",
    "\n",
    "\n",
    "def neural_net_label_input(n_classes):\n",
    "    \"\"\"\n",
    "    Return a Tensor for a batch of label input\n",
    "    : n_classes: Number of classes\n",
    "    : return: Tensor for label input.\n",
    "    \"\"\"\n",
    "    # TODO: Implement Function\n",
    "    y = tf.placeholder(tf.float32, [None, n_classes] , name='y')\n",
    "    return y \n",
    "\n",
    "\n",
    "def neural_net_keep_prob_input():\n",
    "    \"\"\"\n",
    "    Return a Tensor for keep probability\n",
    "    : return: Tensor for keep probability.\n",
    "    \"\"\"\n",
    "    # TODO: Implement Function\n",
    "    keep_prob = tf.placeholder(tf.float32 , name='keep_prob')\n",
    "    return keep_prob\n",
    "\n",
    "\n",
    "\"\"\"\n",
    "DON'T MODIFY ANYTHING IN THIS CELL THAT IS BELOW THIS LINE\n",
    "\"\"\"\n",
    "tf.reset_default_graph()\n",
    "tests.test_nn_image_inputs(neural_net_image_input)\n",
    "tests.test_nn_label_inputs(neural_net_label_input)\n",
    "tests.test_nn_keep_prob_inputs(neural_net_keep_prob_input)"
   ]
  },
  {
   "cell_type": "markdown",
   "metadata": {
    "deletable": true,
    "editable": true
   },
   "source": [
    "### Convolution and Max Pooling Layer\n",
    "Convolution layers have a lot of success with images. For this code cell, you should implement the function `conv2d_maxpool` to apply convolution then max pooling:\n",
    "* Create the weight and bias using `conv_ksize`, `conv_num_outputs` and the shape of `x_tensor`.\n",
    "* Apply a convolution to `x_tensor` using weight and `conv_strides`.\n",
    " * We recommend you use same padding, but you're welcome to use any padding.\n",
    "* Add bias\n",
    "* Add a nonlinear activation to the convolution.\n",
    "* Apply Max Pooling using `pool_ksize` and `pool_strides`.\n",
    " * We recommend you use same padding, but you're welcome to use any padding.\n",
    "\n",
    "**Note:** You **can't** use [TensorFlow Layers](https://www.tensorflow.org/api_docs/python/tf/layers) or [TensorFlow Layers (contrib)](https://www.tensorflow.org/api_guides/python/contrib.layers) for **this** layer, but you can still use TensorFlow's [Neural Network](https://www.tensorflow.org/api_docs/python/tf/nn) package. You may still use the shortcut option for all the **other** layers."
   ]
  },
  {
   "cell_type": "code",
   "execution_count": 8,
   "metadata": {
    "collapsed": false,
    "deletable": true,
    "editable": true
   },
   "outputs": [
    {
     "name": "stdout",
     "output_type": "stream",
     "text": [
      "Tests Passed\n"
     ]
    }
   ],
   "source": [
    "def conv2d_maxpool(x_tensor, conv_num_outputs, conv_ksize, conv_strides, pool_ksize, pool_strides):\n",
    "    \"\"\"\n",
    "    Apply convolution then max pooling to x_tensor\n",
    "    :param x_tensor: TensorFlow Tensor\n",
    "    :param conv_num_outputs: Number of outputs for the convolutional layer\n",
    "    :param conv_ksize: kernal size 2-D Tuple for the convolutional layer\n",
    "    :param conv_strides: Stride 2-D Tuple for convolution\n",
    "    :param pool_ksize: kernal size 2-D Tuple for pool\n",
    "    :param pool_strides: Stride 2-D Tuple for pool\n",
    "    : return: A tensor that represents convolution and max pooling of x_tensor\n",
    "    \"\"\"\n",
    "    # TODO: Implement Function\n",
    "    x = 0\n",
    "    y = 1\n",
    "    z = 3\n",
    "    w1 = tf.Variable(tf.truncated_normal([conv_ksize[x], conv_ksize[y] ,int(x_tensor.shape[z]) , conv_num_outputs],stddev=0.05))\n",
    "    b1 = tf.Variable(tf.zeros((conv_num_outputs)))\n",
    "    \n",
    "    x_tensor = tf.nn.conv2d(x_tensor , w1, strides=[1 ,conv_strides[x], conv_strides[y], 1], padding ='SAME')\n",
    "    x_tensor = tf.nn.bias_add(x_tensor, b1)\n",
    "    x_tensor = tf.nn.relu(x_tensor)\n",
    "    \n",
    "    x_tensor = tf.nn.max_pool(x_tensor, ksize=[1,pool_ksize[0],pool_ksize[1] ,1], strides=[1,pool_strides[0],pool_strides[1],1],padding='SAME')\n",
    "    #print('shape', x_tensor.get_shape())\n",
    "    return x_tensor\n",
    "\n",
    "\n",
    "\"\"\"\n",
    "DON'T MODIFY ANYTHING IN THIS CELL THAT IS BELOW THIS LINE\n",
    "\"\"\"\n",
    "tests.test_con_pool(conv2d_maxpool)"
   ]
  },
  {
   "cell_type": "markdown",
   "metadata": {
    "deletable": true,
    "editable": true
   },
   "source": [
    "### Flatten Layer\n",
    "Implement the `flatten` function to change the dimension of `x_tensor` from a 4-D tensor to a 2-D tensor.  The output should be the shape (*Batch Size*, *Flattened Image Size*). Shortcut option: you can use classes from the [TensorFlow Layers](https://www.tensorflow.org/api_docs/python/tf/layers) or [TensorFlow Layers (contrib)](https://www.tensorflow.org/api_guides/python/contrib.layers) packages for this layer. For more of a challenge, only use other TensorFlow packages."
   ]
  },
  {
   "cell_type": "code",
   "execution_count": 9,
   "metadata": {
    "collapsed": false,
    "deletable": true,
    "editable": true
   },
   "outputs": [
    {
     "name": "stdout",
     "output_type": "stream",
     "text": [
      "Tests Passed\n"
     ]
    }
   ],
   "source": [
    "def flatten(x_tensor):\n",
    "    \"\"\"\n",
    "    Flatten x_tensor to (Batch Size, Flattened Image Size)\n",
    "    : x_tensor: A tensor of size (Batch Size, ...), where ... are the image dimensions.\n",
    "    : return: A tensor of size (Batch Size, Flattened Image Size).\n",
    "    \"\"\"\n",
    "    # TODO: Implement Function\n",
    "    #W = int(x_tensor).shape[1]\n",
    "    dim = int(x_tensor.shape[1] * x_tensor.shape[2] * x_tensor.shape[3])\n",
    "    #print('shape',dim)\n",
    "    a = tf.reshape(x_tensor,[-1,dim])\n",
    "    return a\n",
    "\n",
    "\n",
    "\"\"\"\n",
    "DON'T MODIFY ANYTHING IN THIS CELL THAT IS BELOW THIS LINE\n",
    "\"\"\"\n",
    "tests.test_flatten(flatten)"
   ]
  },
  {
   "cell_type": "markdown",
   "metadata": {
    "deletable": true,
    "editable": true
   },
   "source": [
    "### Fully-Connected Layer\n",
    "Implement the `fully_conn` function to apply a fully connected layer to `x_tensor` with the shape (*Batch Size*, *num_outputs*). Shortcut option: you can use classes from the [TensorFlow Layers](https://www.tensorflow.org/api_docs/python/tf/layers) or [TensorFlow Layers (contrib)](https://www.tensorflow.org/api_guides/python/contrib.layers) packages for this layer. For more of a challenge, only use other TensorFlow packages."
   ]
  },
  {
   "cell_type": "code",
   "execution_count": 10,
   "metadata": {
    "collapsed": false,
    "deletable": true,
    "editable": true
   },
   "outputs": [
    {
     "name": "stdout",
     "output_type": "stream",
     "text": [
      "Tests Passed\n"
     ]
    }
   ],
   "source": [
    "def fully_conn(x_tensor, num_outputs):\n",
    "    \"\"\"\n",
    "    Apply a fully connected layer to x_tensor using weight and bias\n",
    "    : x_tensor: A 2-D tensor where the first dimension is batch size.\n",
    "    : num_outputs: The number of output that the new tensor should be.\n",
    "    : return: A 2-D tensor where the second dimension is num_outputs.\n",
    "    \"\"\"\n",
    "    #print('shape',num_outputs)\n",
    "    # TODO: Implement Function\n",
    "    weights = tf.Variable(tf.truncated_normal([int(x_tensor.shape[1]), num_outputs],stddev=0.05))\n",
    "    bias = tf.Variable(tf.zeros(num_outputs))\n",
    "    fc1 = tf.add(tf.matmul(x_tensor, weights) , bias)\n",
    "    fc1 = tf.nn.relu(fc1)\n",
    "    return fc1\n",
    "\n",
    "\n",
    "\"\"\"\n",
    "DON'T MODIFY ANYTHING IN THIS CELL THAT IS BELOW THIS LINE\n",
    "\"\"\"\n",
    "tests.test_fully_conn(fully_conn)"
   ]
  },
  {
   "cell_type": "markdown",
   "metadata": {
    "deletable": true,
    "editable": true
   },
   "source": [
    "### Output Layer\n",
    "Implement the `output` function to apply a fully connected layer to `x_tensor` with the shape (*Batch Size*, *num_outputs*). Shortcut option: you can use classes from the [TensorFlow Layers](https://www.tensorflow.org/api_docs/python/tf/layers) or [TensorFlow Layers (contrib)](https://www.tensorflow.org/api_guides/python/contrib.layers) packages for this layer. For more of a challenge, only use other TensorFlow packages.\n",
    "\n",
    "**Note:** Activation, softmax, or cross entropy should **not** be applied to this."
   ]
  },
  {
   "cell_type": "code",
   "execution_count": 11,
   "metadata": {
    "collapsed": false,
    "deletable": true,
    "editable": true
   },
   "outputs": [
    {
     "name": "stdout",
     "output_type": "stream",
     "text": [
      "Tests Passed\n"
     ]
    }
   ],
   "source": [
    "def output(x_tensor, num_outputs):\n",
    "    \"\"\"\n",
    "    Apply a output layer to x_tensor using weight and bias\n",
    "    : x_tensor: A 2-D tensor where the first dimension is batch size.\n",
    "    : num_outputs: The number of output that the new tensor should be.\n",
    "    : return: A 2-D tensor where the second dimension is num_outputs.\n",
    "    \"\"\"\n",
    "    # TODO: Implement Function\n",
    "    \n",
    "    weights = tf.Variable(tf.truncated_normal([int(x_tensor.shape[1]), num_outputs],stddev=0.05))\n",
    "    bias = tf.Variable(tf.zeros(num_outputs))\n",
    "    \n",
    "    output_layer = tf.add(tf.matmul(x_tensor,weights) , bias)\n",
    "    #output_layer = tf.nn.softmax(output_layer)\n",
    "    return output_layer\n",
    "\n",
    "\n",
    "\"\"\"\n",
    "DON'T MODIFY ANYTHING IN THIS CELL THAT IS BELOW THIS LINE\n",
    "\"\"\"\n",
    "tests.test_output(output)"
   ]
  },
  {
   "cell_type": "markdown",
   "metadata": {
    "deletable": true,
    "editable": true
   },
   "source": [
    "### Create Convolutional Model\n",
    "Implement the function `conv_net` to create a convolutional neural network model. The function takes in a batch of images, `x`, and outputs logits.  Use the layers you created above to create this model:\n",
    "\n",
    "* Apply 1, 2, or 3 Convolution and Max Pool layers\n",
    "* Apply a Flatten Layer\n",
    "* Apply 1, 2, or 3 Fully Connected Layers\n",
    "* Apply an Output Layer\n",
    "* Return the output\n",
    "* Apply [TensorFlow's Dropout](https://www.tensorflow.org/api_docs/python/tf/nn/dropout) to one or more layers in the model using `keep_prob`. "
   ]
  },
  {
   "cell_type": "code",
   "execution_count": 12,
   "metadata": {
    "collapsed": false,
    "deletable": true,
    "editable": true
   },
   "outputs": [
    {
     "name": "stdout",
     "output_type": "stream",
     "text": [
      "Neural Network Built!\n"
     ]
    }
   ],
   "source": [
    "def conv_net(x, keep_prob):\n",
    "    \"\"\"\n",
    "    Create a convolutional neural network model\n",
    "    : x: Placeholder tensor that holds image data.\n",
    "    : keep_prob: Placeholder tensor that hold dropout keep probability.\n",
    "    : return: Tensor that represents logits\n",
    "    \"\"\"\n",
    "    # TODO: Apply 1, 2, or 3 Convolution and Max Pool layers\n",
    "    #    Play around with different number of outputs, kernel size and stride\n",
    "    # Function Definition from Above:\n",
    "    #    conv2d_maxpool(x_tensor, conv_num_outputs, conv_ksize, conv_strides, pool_ksize, pool_strides)\n",
    "    \n",
    "    conv1 = conv2d_maxpool(x_tensor=x,\n",
    "                           conv_num_outputs = 100,\n",
    "                           conv_ksize = (3,3),\n",
    "                           conv_strides = (1,1),\n",
    "                           pool_ksize =(2,2), \n",
    "                           pool_strides = (1,1)\n",
    "                           )\n",
    "    conv2 = conv2d_maxpool(x_tensor=conv1,\n",
    "                           conv_num_outputs = 50,\n",
    "                           conv_ksize = (2,2),\n",
    "                           conv_strides = (1,1),\n",
    "                           pool_ksize =(2,2), \n",
    "                           pool_strides = (1,1)\n",
    "                           )\n",
    "    \n",
    "    #conv3 = conv2d_maxpool(x_tensor=conv2,\n",
    "                           #conv_num_outputs = 30,\n",
    "                           #conv_ksize = (2,2),\n",
    "                           #conv_strides = (1,1),\n",
    "                           #pool_ksize =(2,2), \n",
    "                           #pool_strides = (1,1)\n",
    "                           #)\n",
    "\n",
    "    # TODO: Apply a Flatten Layer\n",
    "    # Function Definition from Above:\n",
    "    #   flatten(x_tensor)\n",
    "    #flat = tf.nn.dropout(conv2, keep_prob)\n",
    "    flat_layer = flatten(conv2)\n",
    "\n",
    "    # TODO: Apply 1, 2, or 3 Fully Connected Layers\n",
    "    #    Play around with different number of outputs\n",
    "    # Function Definition from Above:\n",
    "    #   fully_conn(x_tensor, num_outputs)\n",
    "    \n",
    "    ful_c1 = fully_conn(flat_layer , 20)\n",
    "    ful_c2 = fully_conn(ful_c1 , 20)\n",
    "\n",
    "\n",
    "    \n",
    "    \n",
    "    # TODO: Apply an Output Layer\n",
    "    #    Set this to the number of classes\n",
    "    # Function Definition from Above:\n",
    "    #   output(x_tensor, num_outputs)\n",
    "    \n",
    "    output_layer = output(ful_c2, 10)\n",
    "    \n",
    "    # TODO: return output\n",
    "    return output_layer\n",
    "\n",
    "\n",
    "\"\"\"\n",
    "DON'T MODIFY ANYTHING IN THIS CELL THAT IS BELOW THIS LINE\n",
    "\"\"\"\n",
    "\n",
    "##############################\n",
    "## Build the Neural Network ##\n",
    "##############################\n",
    "\n",
    "# Remove previous weights, bias, inputs, etc..\n",
    "tf.reset_default_graph()\n",
    "\n",
    "# Inputs\n",
    "x = neural_net_image_input((32, 32, 3))\n",
    "y = neural_net_label_input(10)\n",
    "keep_prob = neural_net_keep_prob_input()\n",
    "\n",
    "# Model\n",
    "logits = conv_net(x, keep_prob)\n",
    "\n",
    "# Name logits Tensor, so that is can be loaded from disk after training\n",
    "logits = tf.identity(logits, name='logits')\n",
    "\n",
    "# Loss and Optimizer\n",
    "cost = tf.reduce_mean(tf.nn.softmax_cross_entropy_with_logits(logits=logits, labels=y))\n",
    "optimizer = tf.train.AdamOptimizer().minimize(cost)\n",
    "\n",
    "# Accuracy\n",
    "correct_pred = tf.equal(tf.argmax(logits, 1), tf.argmax(y, 1))\n",
    "accuracy = tf.reduce_mean(tf.cast(correct_pred, tf.float32), name='accuracy')\n",
    "\n",
    "tests.test_conv_net(conv_net)"
   ]
  },
  {
   "cell_type": "markdown",
   "metadata": {
    "deletable": true,
    "editable": true
   },
   "source": [
    "## Train the Neural Network\n",
    "### Single Optimization\n",
    "Implement the function `train_neural_network` to do a single optimization.  The optimization should use `optimizer` to optimize in `session` with a `feed_dict` of the following:\n",
    "* `x` for image input\n",
    "* `y` for labels\n",
    "* `keep_prob` for keep probability for dropout\n",
    "\n",
    "This function will be called for each batch, so `tf.global_variables_initializer()` has already been called.\n",
    "\n",
    "Note: Nothing needs to be returned. This function is only optimizing the neural network."
   ]
  },
  {
   "cell_type": "code",
   "execution_count": 13,
   "metadata": {
    "collapsed": false,
    "deletable": true,
    "editable": true
   },
   "outputs": [
    {
     "name": "stdout",
     "output_type": "stream",
     "text": [
      "Tests Passed\n"
     ]
    }
   ],
   "source": [
    "def train_neural_network(session, optimizer, keep_probability, feature_batch, label_batch):\n",
    "    \"\"\"\n",
    "    Optimize the session on a batch of images and labels\n",
    "    : session: Current TensorFlow session\n",
    "    : optimizer: TensorFlow optimizer function\n",
    "    : keep_probability: keep probability\n",
    "    : feature_batch: Batch of Numpy image data\n",
    "    : label_batch: Batch of Numpy label data\n",
    "    \"\"\"\n",
    "    # TODO: Implement Function\n",
    "    session.run(optimizer, feed_dict={x : feature_batch,\n",
    "                                      y: label_batch,\n",
    "                                      keep_prob: keep_probability})\n",
    "    pass\n",
    "\n",
    "\n",
    "\"\"\"\n",
    "DON'T MODIFY ANYTHING IN THIS CELL THAT IS BELOW THIS LINE\n",
    "\"\"\"\n",
    "tests.test_train_nn(train_neural_network)"
   ]
  },
  {
   "cell_type": "markdown",
   "metadata": {
    "deletable": true,
    "editable": true
   },
   "source": [
    "### Show Stats\n",
    "Implement the function `print_stats` to print loss and validation accuracy.  Use the global variables `valid_features` and `valid_labels` to calculate validation accuracy.  Use a keep probability of `1.0` to calculate the loss and validation accuracy."
   ]
  },
  {
   "cell_type": "code",
   "execution_count": 14,
   "metadata": {
    "collapsed": false,
    "deletable": true,
    "editable": true
   },
   "outputs": [],
   "source": [
    "def print_stats(session, feature_batch, label_batch, cost, accuracy):\n",
    "    \"\"\"\n",
    "    Print information about loss and validation accuracy\n",
    "    : session: Current TensorFlow session\n",
    "    : feature_batch: Batch of Numpy image data\n",
    "    : label_batch: Batch of Numpy label data\n",
    "    : cost: TensorFlow cost function\n",
    "    : accuracy: TensorFlow accuracy function\n",
    "    \"\"\"\n",
    "    # TODO: Implement Function\n",
    "    loss = session.run(cost,\n",
    "                      feed_dict={x: feature_batch,\n",
    "                                 y: label_batch,\n",
    "                                 keep_prob: 1.0})\n",
    "    validation_accuracy = session.run(accuracy,\n",
    "                                     feed_dict={x: valid_features,\n",
    "                                                y: valid_labels,\n",
    "                                                keep_prob: 1.0})\n",
    "    #print('loss',loss)\n",
    "    print('Loss: {:>15.4f} Validation Accuracy: {:.4f}'.format(loss, validation_accuracy))\n",
    "    pass"
   ]
  },
  {
   "cell_type": "markdown",
   "metadata": {
    "deletable": true,
    "editable": true
   },
   "source": [
    "### Hyperparameters\n",
    "Tune the following parameters:\n",
    "* Set `epochs` to the number of iterations until the network stops learning or start overfitting\n",
    "* Set `batch_size` to the highest number that your machine has memory for.  Most people set them to common sizes of memory:\n",
    " * 64\n",
    " * 128\n",
    " * 256\n",
    " * ...\n",
    "* Set `keep_probability` to the probability of keeping a node using dropout"
   ]
  },
  {
   "cell_type": "code",
   "execution_count": 15,
   "metadata": {
    "collapsed": true,
    "deletable": true,
    "editable": true
   },
   "outputs": [],
   "source": [
    "# TODO: Tune Parameters\n",
    "epochs = 40\n",
    "batch_size = 512\n",
    "keep_probability = 0.6"
   ]
  },
  {
   "cell_type": "markdown",
   "metadata": {
    "deletable": true,
    "editable": true
   },
   "source": [
    "### Train on a Single CIFAR-10 Batch\n",
    "Instead of training the neural network on all the CIFAR-10 batches of data, let's use a single batch. This should save time while you iterate on the model to get a better accuracy.  Once the final validation accuracy is 50% or greater, run the model on all the data in the next section."
   ]
  },
  {
   "cell_type": "code",
   "execution_count": 16,
   "metadata": {
    "collapsed": false,
    "deletable": true,
    "editable": true
   },
   "outputs": [
    {
     "name": "stdout",
     "output_type": "stream",
     "text": [
      "Checking the Training on a Single Batch...\n",
      "Epoch  1, CIFAR-10 Batch 1:  Loss:          2.1859 Validation Accuracy: 0.2126\n",
      "Epoch  2, CIFAR-10 Batch 1:  Loss:          2.0558 Validation Accuracy: 0.2516\n",
      "Epoch  3, CIFAR-10 Batch 1:  Loss:          1.8916 Validation Accuracy: 0.3174\n",
      "Epoch  4, CIFAR-10 Batch 1:  Loss:          1.7973 Validation Accuracy: 0.3498\n",
      "Epoch  5, CIFAR-10 Batch 1:  Loss:          1.7368 Validation Accuracy: 0.3572\n",
      "Epoch  6, CIFAR-10 Batch 1:  Loss:          1.6904 Validation Accuracy: 0.3882\n",
      "Epoch  7, CIFAR-10 Batch 1:  Loss:          1.6476 Validation Accuracy: 0.4108\n",
      "Epoch  8, CIFAR-10 Batch 1:  Loss:          1.6042 Validation Accuracy: 0.4230\n",
      "Epoch  9, CIFAR-10 Batch 1:  Loss:          1.5599 Validation Accuracy: 0.4384\n",
      "Epoch 10, CIFAR-10 Batch 1:  Loss:          1.5132 Validation Accuracy: 0.4444\n",
      "Epoch 11, CIFAR-10 Batch 1:  Loss:          1.4764 Validation Accuracy: 0.4542\n",
      "Epoch 12, CIFAR-10 Batch 1:  Loss:          1.4289 Validation Accuracy: 0.4558\n",
      "Epoch 13, CIFAR-10 Batch 1:  Loss:          1.3887 Validation Accuracy: 0.4642\n",
      "Epoch 14, CIFAR-10 Batch 1:  Loss:          1.3482 Validation Accuracy: 0.4836\n",
      "Epoch 15, CIFAR-10 Batch 1:  Loss:          1.3088 Validation Accuracy: 0.4914\n",
      "Epoch 16, CIFAR-10 Batch 1:  Loss:          1.2697 Validation Accuracy: 0.4976\n",
      "Epoch 17, CIFAR-10 Batch 1:  Loss:          1.2375 Validation Accuracy: 0.4980\n",
      "Epoch 18, CIFAR-10 Batch 1:  Loss:          1.1944 Validation Accuracy: 0.5050\n",
      "Epoch 19, CIFAR-10 Batch 1:  Loss:          1.1639 Validation Accuracy: 0.5114\n",
      "Epoch 20, CIFAR-10 Batch 1:  Loss:          1.1330 Validation Accuracy: 0.5142\n",
      "Epoch 21, CIFAR-10 Batch 1:  Loss:          1.0974 Validation Accuracy: 0.5164\n",
      "Epoch 22, CIFAR-10 Batch 1:  Loss:          1.0735 Validation Accuracy: 0.5174\n",
      "Epoch 23, CIFAR-10 Batch 1:  Loss:          1.0393 Validation Accuracy: 0.5212\n",
      "Epoch 24, CIFAR-10 Batch 1:  Loss:          1.0139 Validation Accuracy: 0.5226\n",
      "Epoch 25, CIFAR-10 Batch 1:  Loss:          0.9855 Validation Accuracy: 0.5248\n",
      "Epoch 26, CIFAR-10 Batch 1:  Loss:          0.9638 Validation Accuracy: 0.5270\n",
      "Epoch 27, CIFAR-10 Batch 1:  Loss:          0.9351 Validation Accuracy: 0.5320\n",
      "Epoch 28, CIFAR-10 Batch 1:  Loss:          0.9055 Validation Accuracy: 0.5334\n",
      "Epoch 29, CIFAR-10 Batch 1:  Loss:          0.8726 Validation Accuracy: 0.5400\n",
      "Epoch 30, CIFAR-10 Batch 1:  Loss:          0.8404 Validation Accuracy: 0.5390\n",
      "Epoch 31, CIFAR-10 Batch 1:  Loss:          0.8147 Validation Accuracy: 0.5410\n",
      "Epoch 32, CIFAR-10 Batch 1:  Loss:          0.7940 Validation Accuracy: 0.5370\n",
      "Epoch 33, CIFAR-10 Batch 1:  Loss:          0.7733 Validation Accuracy: 0.5422\n",
      "Epoch 34, CIFAR-10 Batch 1:  Loss:          0.7492 Validation Accuracy: 0.5384\n",
      "Epoch 35, CIFAR-10 Batch 1:  Loss:          0.7685 Validation Accuracy: 0.5214\n",
      "Epoch 36, CIFAR-10 Batch 1:  Loss:          0.6893 Validation Accuracy: 0.5428\n",
      "Epoch 37, CIFAR-10 Batch 1:  Loss:          0.7042 Validation Accuracy: 0.5456\n",
      "Epoch 38, CIFAR-10 Batch 1:  Loss:          0.6853 Validation Accuracy: 0.5508\n",
      "Epoch 39, CIFAR-10 Batch 1:  Loss:          0.6473 Validation Accuracy: 0.5480\n",
      "Epoch 40, CIFAR-10 Batch 1:  Loss:          0.6158 Validation Accuracy: 0.5510\n"
     ]
    }
   ],
   "source": [
    "\"\"\"\n",
    "DON'T MODIFY ANYTHING IN THIS CELL\n",
    "\"\"\"\n",
    "print('Checking the Training on a Single Batch...')\n",
    "with tf.Session() as sess:\n",
    "    # Initializing the variables\n",
    "    sess.run(tf.global_variables_initializer())\n",
    "    \n",
    "    # Training cycle\n",
    "    for epoch in range(epochs):\n",
    "        batch_i = 1\n",
    "        for batch_features, batch_labels in helper.load_preprocess_training_batch(batch_i, batch_size):\n",
    "            train_neural_network(sess, optimizer, keep_probability, batch_features, batch_labels)\n",
    "        print('Epoch {:>2}, CIFAR-10 Batch {}:  '.format(epoch + 1, batch_i), end='')\n",
    "        print_stats(sess, batch_features, batch_labels, cost, accuracy)"
   ]
  },
  {
   "cell_type": "markdown",
   "metadata": {
    "deletable": true,
    "editable": true
   },
   "source": [
    "### Fully Train the Model\n",
    "Now that you got a good accuracy with a single CIFAR-10 batch, try it with all five batches."
   ]
  },
  {
   "cell_type": "code",
   "execution_count": 17,
   "metadata": {
    "collapsed": false,
    "deletable": true,
    "editable": true
   },
   "outputs": [
    {
     "name": "stdout",
     "output_type": "stream",
     "text": [
      "Training...\n",
      "Epoch  1, CIFAR-10 Batch 1:  Loss:          2.2344 Validation Accuracy: 0.1706\n",
      "Epoch  1, CIFAR-10 Batch 2:  Loss:          2.0390 Validation Accuracy: 0.2130\n",
      "Epoch  1, CIFAR-10 Batch 3:  Loss:          1.9015 Validation Accuracy: 0.2670\n",
      "Epoch  1, CIFAR-10 Batch 4:  Loss:          1.7728 Validation Accuracy: 0.3358\n",
      "Epoch  1, CIFAR-10 Batch 5:  Loss:          1.7647 Validation Accuracy: 0.3724\n",
      "Epoch  2, CIFAR-10 Batch 1:  Loss:          1.7874 Validation Accuracy: 0.3896\n",
      "Epoch  2, CIFAR-10 Batch 2:  Loss:          1.6449 Validation Accuracy: 0.4060\n",
      "Epoch  2, CIFAR-10 Batch 3:  Loss:          1.4976 Validation Accuracy: 0.4136\n",
      "Epoch  2, CIFAR-10 Batch 4:  Loss:          1.4679 Validation Accuracy: 0.4288\n",
      "Epoch  2, CIFAR-10 Batch 5:  Loss:          1.5594 Validation Accuracy: 0.4338\n",
      "Epoch  3, CIFAR-10 Batch 1:  Loss:          1.5831 Validation Accuracy: 0.4462\n",
      "Epoch  3, CIFAR-10 Batch 2:  Loss:          1.4679 Validation Accuracy: 0.4642\n",
      "Epoch  3, CIFAR-10 Batch 3:  Loss:          1.3182 Validation Accuracy: 0.4700\n",
      "Epoch  3, CIFAR-10 Batch 4:  Loss:          1.3332 Validation Accuracy: 0.4866\n",
      "Epoch  3, CIFAR-10 Batch 5:  Loss:          1.3959 Validation Accuracy: 0.4768\n",
      "Epoch  4, CIFAR-10 Batch 1:  Loss:          1.4486 Validation Accuracy: 0.4866\n",
      "Epoch  4, CIFAR-10 Batch 2:  Loss:          1.3354 Validation Accuracy: 0.4968\n",
      "Epoch  4, CIFAR-10 Batch 3:  Loss:          1.2558 Validation Accuracy: 0.4900\n",
      "Epoch  4, CIFAR-10 Batch 4:  Loss:          1.2468 Validation Accuracy: 0.5048\n",
      "Epoch  4, CIFAR-10 Batch 5:  Loss:          1.2870 Validation Accuracy: 0.5100\n",
      "Epoch  5, CIFAR-10 Batch 1:  Loss:          1.3277 Validation Accuracy: 0.5294\n",
      "Epoch  5, CIFAR-10 Batch 2:  Loss:          1.2245 Validation Accuracy: 0.5218\n",
      "Epoch  5, CIFAR-10 Batch 3:  Loss:          1.1948 Validation Accuracy: 0.5158\n",
      "Epoch  5, CIFAR-10 Batch 4:  Loss:          1.1625 Validation Accuracy: 0.5324\n",
      "Epoch  5, CIFAR-10 Batch 5:  Loss:          1.2083 Validation Accuracy: 0.5340\n",
      "Epoch  6, CIFAR-10 Batch 1:  Loss:          1.2505 Validation Accuracy: 0.5538\n",
      "Epoch  6, CIFAR-10 Batch 2:  Loss:          1.1588 Validation Accuracy: 0.5298\n",
      "Epoch  6, CIFAR-10 Batch 3:  Loss:          1.1075 Validation Accuracy: 0.5478\n",
      "Epoch  6, CIFAR-10 Batch 4:  Loss:          1.1070 Validation Accuracy: 0.5556\n",
      "Epoch  6, CIFAR-10 Batch 5:  Loss:          1.1284 Validation Accuracy: 0.5560\n",
      "Epoch  7, CIFAR-10 Batch 1:  Loss:          1.1931 Validation Accuracy: 0.5688\n",
      "Epoch  7, CIFAR-10 Batch 2:  Loss:          1.1024 Validation Accuracy: 0.5548\n",
      "Epoch  7, CIFAR-10 Batch 3:  Loss:          1.0482 Validation Accuracy: 0.5634\n",
      "Epoch  7, CIFAR-10 Batch 4:  Loss:          1.0690 Validation Accuracy: 0.5682\n",
      "Epoch  7, CIFAR-10 Batch 5:  Loss:          1.0811 Validation Accuracy: 0.5732\n",
      "Epoch  8, CIFAR-10 Batch 1:  Loss:          1.1511 Validation Accuracy: 0.5728\n",
      "Epoch  8, CIFAR-10 Batch 2:  Loss:          1.0464 Validation Accuracy: 0.5706\n",
      "Epoch  8, CIFAR-10 Batch 3:  Loss:          0.9959 Validation Accuracy: 0.5810\n",
      "Epoch  8, CIFAR-10 Batch 4:  Loss:          1.0353 Validation Accuracy: 0.5802\n",
      "Epoch  8, CIFAR-10 Batch 5:  Loss:          1.0235 Validation Accuracy: 0.5876\n",
      "Epoch  9, CIFAR-10 Batch 1:  Loss:          1.0946 Validation Accuracy: 0.5934\n",
      "Epoch  9, CIFAR-10 Batch 2:  Loss:          0.9963 Validation Accuracy: 0.5882\n",
      "Epoch  9, CIFAR-10 Batch 3:  Loss:          0.9583 Validation Accuracy: 0.5932\n",
      "Epoch  9, CIFAR-10 Batch 4:  Loss:          1.0025 Validation Accuracy: 0.5900\n",
      "Epoch  9, CIFAR-10 Batch 5:  Loss:          0.9845 Validation Accuracy: 0.5950\n",
      "Epoch 10, CIFAR-10 Batch 1:  Loss:          1.0428 Validation Accuracy: 0.6080\n",
      "Epoch 10, CIFAR-10 Batch 2:  Loss:          0.9475 Validation Accuracy: 0.6014\n",
      "Epoch 10, CIFAR-10 Batch 3:  Loss:          0.9301 Validation Accuracy: 0.6038\n",
      "Epoch 10, CIFAR-10 Batch 4:  Loss:          0.9673 Validation Accuracy: 0.5956\n",
      "Epoch 10, CIFAR-10 Batch 5:  Loss:          0.9421 Validation Accuracy: 0.6070\n",
      "Epoch 11, CIFAR-10 Batch 1:  Loss:          1.0002 Validation Accuracy: 0.6182\n",
      "Epoch 11, CIFAR-10 Batch 2:  Loss:          0.9037 Validation Accuracy: 0.6078\n",
      "Epoch 11, CIFAR-10 Batch 3:  Loss:          0.9159 Validation Accuracy: 0.6058\n",
      "Epoch 11, CIFAR-10 Batch 4:  Loss:          0.9335 Validation Accuracy: 0.6140\n",
      "Epoch 11, CIFAR-10 Batch 5:  Loss:          0.9038 Validation Accuracy: 0.6136\n",
      "Epoch 12, CIFAR-10 Batch 1:  Loss:          0.9685 Validation Accuracy: 0.6234\n",
      "Epoch 12, CIFAR-10 Batch 2:  Loss:          0.9021 Validation Accuracy: 0.6086\n",
      "Epoch 12, CIFAR-10 Batch 3:  Loss:          0.8814 Validation Accuracy: 0.6194\n",
      "Epoch 12, CIFAR-10 Batch 4:  Loss:          0.8960 Validation Accuracy: 0.6276\n",
      "Epoch 12, CIFAR-10 Batch 5:  Loss:          0.8770 Validation Accuracy: 0.6214\n",
      "Epoch 13, CIFAR-10 Batch 1:  Loss:          0.9394 Validation Accuracy: 0.6266\n",
      "Epoch 13, CIFAR-10 Batch 2:  Loss:          0.8542 Validation Accuracy: 0.6234\n",
      "Epoch 13, CIFAR-10 Batch 3:  Loss:          0.8475 Validation Accuracy: 0.6294\n",
      "Epoch 13, CIFAR-10 Batch 4:  Loss:          0.8730 Validation Accuracy: 0.6332\n",
      "Epoch 13, CIFAR-10 Batch 5:  Loss:          0.8461 Validation Accuracy: 0.6282\n",
      "Epoch 14, CIFAR-10 Batch 1:  Loss:          0.9103 Validation Accuracy: 0.6336\n",
      "Epoch 14, CIFAR-10 Batch 2:  Loss:          0.8246 Validation Accuracy: 0.6310\n",
      "Epoch 14, CIFAR-10 Batch 3:  Loss:          0.8187 Validation Accuracy: 0.6380\n",
      "Epoch 14, CIFAR-10 Batch 4:  Loss:          0.8460 Validation Accuracy: 0.6358\n",
      "Epoch 14, CIFAR-10 Batch 5:  Loss:          0.8131 Validation Accuracy: 0.6410\n",
      "Epoch 15, CIFAR-10 Batch 1:  Loss:          0.8844 Validation Accuracy: 0.6398\n",
      "Epoch 15, CIFAR-10 Batch 2:  Loss:          0.7912 Validation Accuracy: 0.6384\n",
      "Epoch 15, CIFAR-10 Batch 3:  Loss:          0.7906 Validation Accuracy: 0.6424\n",
      "Epoch 15, CIFAR-10 Batch 4:  Loss:          0.8219 Validation Accuracy: 0.6352\n",
      "Epoch 15, CIFAR-10 Batch 5:  Loss:          0.7825 Validation Accuracy: 0.6502\n",
      "Epoch 16, CIFAR-10 Batch 1:  Loss:          0.8603 Validation Accuracy: 0.6468\n",
      "Epoch 16, CIFAR-10 Batch 2:  Loss:          0.7689 Validation Accuracy: 0.6416\n",
      "Epoch 16, CIFAR-10 Batch 3:  Loss:          0.7592 Validation Accuracy: 0.6506\n",
      "Epoch 16, CIFAR-10 Batch 4:  Loss:          0.7995 Validation Accuracy: 0.6338\n",
      "Epoch 16, CIFAR-10 Batch 5:  Loss:          0.7479 Validation Accuracy: 0.6526\n",
      "Epoch 17, CIFAR-10 Batch 1:  Loss:          0.8383 Validation Accuracy: 0.6524\n",
      "Epoch 17, CIFAR-10 Batch 2:  Loss:          0.7510 Validation Accuracy: 0.6440\n",
      "Epoch 17, CIFAR-10 Batch 3:  Loss:          0.7151 Validation Accuracy: 0.6568\n",
      "Epoch 17, CIFAR-10 Batch 4:  Loss:          0.7699 Validation Accuracy: 0.6364\n",
      "Epoch 17, CIFAR-10 Batch 5:  Loss:          0.7276 Validation Accuracy: 0.6580\n",
      "Epoch 18, CIFAR-10 Batch 1:  Loss:          0.8172 Validation Accuracy: 0.6512\n",
      "Epoch 18, CIFAR-10 Batch 2:  Loss:          0.7380 Validation Accuracy: 0.6446\n",
      "Epoch 18, CIFAR-10 Batch 3:  Loss:          0.6869 Validation Accuracy: 0.6516\n",
      "Epoch 18, CIFAR-10 Batch 4:  Loss:          0.7381 Validation Accuracy: 0.6456\n",
      "Epoch 18, CIFAR-10 Batch 5:  Loss:          0.7037 Validation Accuracy: 0.6578\n",
      "Epoch 19, CIFAR-10 Batch 1:  Loss:          0.8002 Validation Accuracy: 0.6558\n",
      "Epoch 19, CIFAR-10 Batch 2:  Loss:          0.7179 Validation Accuracy: 0.6460\n",
      "Epoch 19, CIFAR-10 Batch 3:  Loss:          0.6725 Validation Accuracy: 0.6568\n",
      "Epoch 19, CIFAR-10 Batch 4:  Loss:          0.7137 Validation Accuracy: 0.6528\n",
      "Epoch 19, CIFAR-10 Batch 5:  Loss:          0.6847 Validation Accuracy: 0.6604\n",
      "Epoch 20, CIFAR-10 Batch 1:  Loss:          0.7848 Validation Accuracy: 0.6590\n",
      "Epoch 20, CIFAR-10 Batch 2:  Loss:          0.7086 Validation Accuracy: 0.6456\n",
      "Epoch 20, CIFAR-10 Batch 3:  Loss:          0.6596 Validation Accuracy: 0.6570\n",
      "Epoch 20, CIFAR-10 Batch 4:  Loss:          0.6955 Validation Accuracy: 0.6538\n",
      "Epoch 20, CIFAR-10 Batch 5:  Loss:          0.6659 Validation Accuracy: 0.6654\n",
      "Epoch 21, CIFAR-10 Batch 1:  Loss:          0.7740 Validation Accuracy: 0.6614\n",
      "Epoch 21, CIFAR-10 Batch 2:  Loss:          0.6972 Validation Accuracy: 0.6446\n",
      "Epoch 21, CIFAR-10 Batch 3:  Loss:          0.6361 Validation Accuracy: 0.6690\n",
      "Epoch 21, CIFAR-10 Batch 4:  Loss:          0.6865 Validation Accuracy: 0.6576\n",
      "Epoch 21, CIFAR-10 Batch 5:  Loss:          0.6367 Validation Accuracy: 0.6706\n",
      "Epoch 22, CIFAR-10 Batch 1:  Loss:          0.7565 Validation Accuracy: 0.6634\n",
      "Epoch 22, CIFAR-10 Batch 2:  Loss:          0.6733 Validation Accuracy: 0.6478\n",
      "Epoch 22, CIFAR-10 Batch 3:  Loss:          0.6537 Validation Accuracy: 0.6618\n",
      "Epoch 22, CIFAR-10 Batch 4:  Loss:          0.6578 Validation Accuracy: 0.6660\n",
      "Epoch 22, CIFAR-10 Batch 5:  Loss:          0.6084 Validation Accuracy: 0.6744\n",
      "Epoch 23, CIFAR-10 Batch 1:  Loss:          0.7344 Validation Accuracy: 0.6656\n",
      "Epoch 23, CIFAR-10 Batch 2:  Loss:          0.6405 Validation Accuracy: 0.6564\n",
      "Epoch 23, CIFAR-10 Batch 3:  Loss:          0.6385 Validation Accuracy: 0.6598\n",
      "Epoch 23, CIFAR-10 Batch 4:  Loss:          0.6418 Validation Accuracy: 0.6652\n",
      "Epoch 23, CIFAR-10 Batch 5:  Loss:          0.5863 Validation Accuracy: 0.6704\n",
      "Epoch 24, CIFAR-10 Batch 1:  Loss:          0.7132 Validation Accuracy: 0.6660\n",
      "Epoch 24, CIFAR-10 Batch 2:  Loss:          0.6131 Validation Accuracy: 0.6652\n",
      "Epoch 24, CIFAR-10 Batch 3:  Loss:          0.6246 Validation Accuracy: 0.6596\n",
      "Epoch 24, CIFAR-10 Batch 4:  Loss:          0.6238 Validation Accuracy: 0.6678\n",
      "Epoch 24, CIFAR-10 Batch 5:  Loss:          0.5681 Validation Accuracy: 0.6760\n",
      "Epoch 25, CIFAR-10 Batch 1:  Loss:          0.6913 Validation Accuracy: 0.6702\n",
      "Epoch 25, CIFAR-10 Batch 2:  Loss:          0.5849 Validation Accuracy: 0.6682\n",
      "Epoch 25, CIFAR-10 Batch 3:  Loss:          0.6058 Validation Accuracy: 0.6600\n",
      "Epoch 25, CIFAR-10 Batch 4:  Loss:          0.6087 Validation Accuracy: 0.6678\n",
      "Epoch 25, CIFAR-10 Batch 5:  Loss:          0.5483 Validation Accuracy: 0.6770\n",
      "Epoch 26, CIFAR-10 Batch 1:  Loss:          0.6693 Validation Accuracy: 0.6714\n",
      "Epoch 26, CIFAR-10 Batch 2:  Loss:          0.5633 Validation Accuracy: 0.6742\n",
      "Epoch 26, CIFAR-10 Batch 3:  Loss:          0.5930 Validation Accuracy: 0.6568\n",
      "Epoch 26, CIFAR-10 Batch 4:  Loss:          0.5947 Validation Accuracy: 0.6678\n",
      "Epoch 26, CIFAR-10 Batch 5:  Loss:          0.5266 Validation Accuracy: 0.6772\n",
      "Epoch 27, CIFAR-10 Batch 1:  Loss:          0.6477 Validation Accuracy: 0.6746\n",
      "Epoch 27, CIFAR-10 Batch 2:  Loss:          0.5436 Validation Accuracy: 0.6740\n",
      "Epoch 27, CIFAR-10 Batch 3:  Loss:          0.5796 Validation Accuracy: 0.6546\n",
      "Epoch 27, CIFAR-10 Batch 4:  Loss:          0.5868 Validation Accuracy: 0.6606\n",
      "Epoch 27, CIFAR-10 Batch 5:  Loss:          0.5091 Validation Accuracy: 0.6778\n",
      "Epoch 28, CIFAR-10 Batch 1:  Loss:          0.6233 Validation Accuracy: 0.6754\n",
      "Epoch 28, CIFAR-10 Batch 2:  Loss:          0.5211 Validation Accuracy: 0.6782\n",
      "Epoch 28, CIFAR-10 Batch 3:  Loss:          0.5696 Validation Accuracy: 0.6526\n",
      "Epoch 28, CIFAR-10 Batch 4:  Loss:          0.5640 Validation Accuracy: 0.6654\n",
      "Epoch 28, CIFAR-10 Batch 5:  Loss:          0.4896 Validation Accuracy: 0.6762\n",
      "Epoch 29, CIFAR-10 Batch 1:  Loss:          0.6012 Validation Accuracy: 0.6752\n",
      "Epoch 29, CIFAR-10 Batch 2:  Loss:          0.5019 Validation Accuracy: 0.6780\n",
      "Epoch 29, CIFAR-10 Batch 3:  Loss:          0.5652 Validation Accuracy: 0.6472\n",
      "Epoch 29, CIFAR-10 Batch 4:  Loss:          0.5395 Validation Accuracy: 0.6710\n",
      "Epoch 29, CIFAR-10 Batch 5:  Loss:          0.4737 Validation Accuracy: 0.6826\n",
      "Epoch 30, CIFAR-10 Batch 1:  Loss:          0.5790 Validation Accuracy: 0.6710\n",
      "Epoch 30, CIFAR-10 Batch 2:  Loss:          0.4899 Validation Accuracy: 0.6790\n",
      "Epoch 30, CIFAR-10 Batch 3:  Loss:          0.5301 Validation Accuracy: 0.6582\n",
      "Epoch 30, CIFAR-10 Batch 4:  Loss:          0.5275 Validation Accuracy: 0.6728\n",
      "Epoch 30, CIFAR-10 Batch 5:  Loss:          0.4757 Validation Accuracy: 0.6774\n",
      "Epoch 31, CIFAR-10 Batch 1:  Loss:          0.5603 Validation Accuracy: 0.6724\n",
      "Epoch 31, CIFAR-10 Batch 2:  Loss:          0.4636 Validation Accuracy: 0.6826\n",
      "Epoch 31, CIFAR-10 Batch 3:  Loss:          0.4915 Validation Accuracy: 0.6620\n",
      "Epoch 31, CIFAR-10 Batch 4:  Loss:          0.5028 Validation Accuracy: 0.6746\n",
      "Epoch 31, CIFAR-10 Batch 5:  Loss:          0.4576 Validation Accuracy: 0.6780\n",
      "Epoch 32, CIFAR-10 Batch 1:  Loss:          0.5410 Validation Accuracy: 0.6744\n",
      "Epoch 32, CIFAR-10 Batch 2:  Loss:          0.4423 Validation Accuracy: 0.6830\n",
      "Epoch 32, CIFAR-10 Batch 3:  Loss:          0.4805 Validation Accuracy: 0.6576\n",
      "Epoch 32, CIFAR-10 Batch 4:  Loss:          0.4820 Validation Accuracy: 0.6756\n",
      "Epoch 32, CIFAR-10 Batch 5:  Loss:          0.4605 Validation Accuracy: 0.6680\n",
      "Epoch 33, CIFAR-10 Batch 1:  Loss:          0.5328 Validation Accuracy: 0.6736\n",
      "Epoch 33, CIFAR-10 Batch 2:  Loss:          0.4347 Validation Accuracy: 0.6846\n",
      "Epoch 33, CIFAR-10 Batch 3:  Loss:          0.4698 Validation Accuracy: 0.6588\n",
      "Epoch 33, CIFAR-10 Batch 4:  Loss:          0.4635 Validation Accuracy: 0.6802\n",
      "Epoch 33, CIFAR-10 Batch 5:  Loss:          0.4598 Validation Accuracy: 0.6666\n",
      "Epoch 34, CIFAR-10 Batch 1:  Loss:          0.5200 Validation Accuracy: 0.6678\n",
      "Epoch 34, CIFAR-10 Batch 2:  Loss:          0.4264 Validation Accuracy: 0.6836\n",
      "Epoch 34, CIFAR-10 Batch 3:  Loss:          0.4531 Validation Accuracy: 0.6608\n",
      "Epoch 34, CIFAR-10 Batch 4:  Loss:          0.4529 Validation Accuracy: 0.6770\n",
      "Epoch 34, CIFAR-10 Batch 5:  Loss:          0.4390 Validation Accuracy: 0.6696\n",
      "Epoch 35, CIFAR-10 Batch 1:  Loss:          0.4935 Validation Accuracy: 0.6728\n",
      "Epoch 35, CIFAR-10 Batch 2:  Loss:          0.4108 Validation Accuracy: 0.6856\n",
      "Epoch 35, CIFAR-10 Batch 3:  Loss:          0.4323 Validation Accuracy: 0.6654\n",
      "Epoch 35, CIFAR-10 Batch 4:  Loss:          0.4366 Validation Accuracy: 0.6752\n",
      "Epoch 35, CIFAR-10 Batch 5:  Loss:          0.4306 Validation Accuracy: 0.6656\n",
      "Epoch 36, CIFAR-10 Batch 1:  Loss:          0.4638 Validation Accuracy: 0.6800\n",
      "Epoch 36, CIFAR-10 Batch 2:  Loss:          0.3937 Validation Accuracy: 0.6830\n",
      "Epoch 36, CIFAR-10 Batch 3:  Loss:          0.4074 Validation Accuracy: 0.6704\n",
      "Epoch 36, CIFAR-10 Batch 4:  Loss:          0.4210 Validation Accuracy: 0.6726\n",
      "Epoch 36, CIFAR-10 Batch 5:  Loss:          0.4174 Validation Accuracy: 0.6672\n",
      "Epoch 37, CIFAR-10 Batch 1:  Loss:          0.4582 Validation Accuracy: 0.6778\n",
      "Epoch 37, CIFAR-10 Batch 2:  Loss:          0.3757 Validation Accuracy: 0.6786\n",
      "Epoch 37, CIFAR-10 Batch 3:  Loss:          0.3966 Validation Accuracy: 0.6662\n",
      "Epoch 37, CIFAR-10 Batch 4:  Loss:          0.4185 Validation Accuracy: 0.6662\n",
      "Epoch 37, CIFAR-10 Batch 5:  Loss:          0.3853 Validation Accuracy: 0.6726\n",
      "Epoch 38, CIFAR-10 Batch 1:  Loss:          0.4421 Validation Accuracy: 0.6712\n",
      "Epoch 38, CIFAR-10 Batch 2:  Loss:          0.3758 Validation Accuracy: 0.6652\n",
      "Epoch 38, CIFAR-10 Batch 3:  Loss:          0.3895 Validation Accuracy: 0.6662\n",
      "Epoch 38, CIFAR-10 Batch 4:  Loss:          0.3892 Validation Accuracy: 0.6680\n",
      "Epoch 38, CIFAR-10 Batch 5:  Loss:          0.3478 Validation Accuracy: 0.6772\n",
      "Epoch 39, CIFAR-10 Batch 1:  Loss:          0.4292 Validation Accuracy: 0.6614\n",
      "Epoch 39, CIFAR-10 Batch 2:  Loss:          0.3640 Validation Accuracy: 0.6644\n",
      "Epoch 39, CIFAR-10 Batch 3:  Loss:          0.3827 Validation Accuracy: 0.6616\n",
      "Epoch 39, CIFAR-10 Batch 4:  Loss:          0.3601 Validation Accuracy: 0.6698\n",
      "Epoch 39, CIFAR-10 Batch 5:  Loss:          0.3371 Validation Accuracy: 0.6786\n",
      "Epoch 40, CIFAR-10 Batch 1:  Loss:          0.4460 Validation Accuracy: 0.6508\n",
      "Epoch 40, CIFAR-10 Batch 2:  Loss:          0.3740 Validation Accuracy: 0.6678\n",
      "Epoch 40, CIFAR-10 Batch 3:  Loss:          0.3402 Validation Accuracy: 0.6812\n",
      "Epoch 40, CIFAR-10 Batch 4:  Loss:          0.3577 Validation Accuracy: 0.6728\n",
      "Epoch 40, CIFAR-10 Batch 5:  Loss:          0.3486 Validation Accuracy: 0.6690\n"
     ]
    }
   ],
   "source": [
    "\"\"\"\n",
    "DON'T MODIFY ANYTHING IN THIS CELL\n",
    "\"\"\"\n",
    "save_model_path = './image_classification'\n",
    "\n",
    "print('Training...')\n",
    "with tf.Session() as sess:\n",
    "    # Initializing the variables\n",
    "    sess.run(tf.global_variables_initializer())\n",
    "    \n",
    "    # Training cycle\n",
    "    for epoch in range(epochs):\n",
    "        # Loop over all batches\n",
    "        n_batches = 5\n",
    "        for batch_i in range(1, n_batches + 1):\n",
    "            for batch_features, batch_labels in helper.load_preprocess_training_batch(batch_i, batch_size):\n",
    "                train_neural_network(sess, optimizer, keep_probability, batch_features, batch_labels)\n",
    "            print('Epoch {:>2}, CIFAR-10 Batch {}:  '.format(epoch + 1, batch_i), end='')\n",
    "            print_stats(sess, batch_features, batch_labels, cost, accuracy)\n",
    "            \n",
    "    # Save Model\n",
    "    saver = tf.train.Saver()\n",
    "    save_path = saver.save(sess, save_model_path)"
   ]
  },
  {
   "cell_type": "markdown",
   "metadata": {
    "deletable": true,
    "editable": true
   },
   "source": [
    "# Checkpoint\n",
    "The model has been saved to disk.\n",
    "## Test Model\n",
    "Test your model against the test dataset.  This will be your final accuracy. You should have an accuracy greater than 50%. If you don't, keep tweaking the model architecture and parameters."
   ]
  },
  {
   "cell_type": "code",
   "execution_count": 18,
   "metadata": {
    "collapsed": false,
    "deletable": true,
    "editable": true
   },
   "outputs": [
    {
     "name": "stdout",
     "output_type": "stream",
     "text": [
      "Testing Accuracy: 0.6637637853622437\n",
      "\n"
     ]
    },
    {
     "data": {
      "image/png": "[encoded data removed]",
      "text/plain": [
       "<matplotlib.figure.Figure at 0x11c8478d0>"
      ]
     },
     "metadata": {
      "image/png": {
       "height": 319,
       "width": 355
      }
     },
     "output_type": "display_data"
    }
   ],
   "source": [
    "\"\"\"\n",
    "DON'T MODIFY ANYTHING IN THIS CELL\n",
    "\"\"\"\n",
    "%matplotlib inline\n",
    "%config InlineBackend.figure_format = 'retina'\n",
    "\n",
    "import tensorflow as tf\n",
    "import pickle\n",
    "import helper\n",
    "import random\n",
    "\n",
    "# Set batch size if not already set\n",
    "try:\n",
    "    if batch_size:\n",
    "        pass\n",
    "except NameError:\n",
    "    batch_size = 64\n",
    "\n",
    "save_model_path = './image_classification'\n",
    "n_samples = 4\n",
    "top_n_predictions = 3\n",
    "\n",
    "def test_model():\n",
    "    \"\"\"\n",
    "    Test the saved model against the test dataset\n",
    "    \"\"\"\n",
    "\n",
    "    test_features, test_labels = pickle.load(open('preprocess_training.p', mode='rb'))\n",
    "    loaded_graph = tf.Graph()\n",
    "\n",
    "    with tf.Session(graph=loaded_graph) as sess:\n",
    "        # Load model\n",
    "        loader = tf.train.import_meta_graph(save_model_path + '.meta')\n",
    "        loader.restore(sess, save_model_path)\n",
    "\n",
    "        # Get Tensors from loaded model\n",
    "        loaded_x = loaded_graph.get_tensor_by_name('x:0')\n",
    "        loaded_y = loaded_graph.get_tensor_by_name('y:0')\n",
    "        loaded_keep_prob = loaded_graph.get_tensor_by_name('keep_prob:0')\n",
    "        loaded_logits = loaded_graph.get_tensor_by_name('logits:0')\n",
    "        loaded_acc = loaded_graph.get_tensor_by_name('accuracy:0')\n",
    "        \n",
    "        # Get accuracy in batches for memory limitations\n",
    "        test_batch_acc_total = 0\n",
    "        test_batch_count = 0\n",
    "        \n",
    "        for train_feature_batch, train_label_batch in helper.batch_features_labels(test_features, test_labels, batch_size):\n",
    "            test_batch_acc_total += sess.run(\n",
    "                loaded_acc,\n",
    "                feed_dict={loaded_x: train_feature_batch, loaded_y: train_label_batch, loaded_keep_prob: 1.0})\n",
    "            test_batch_count += 1\n",
    "\n",
    "        print('Testing Accuracy: {}\\n'.format(test_batch_acc_total/test_batch_count))\n",
    "\n",
    "        # Print Random Samples\n",
    "        random_test_features, random_test_labels = tuple(zip(*random.sample(list(zip(test_features, test_labels)), n_samples)))\n",
    "        random_test_predictions = sess.run(\n",
    "            tf.nn.top_k(tf.nn.softmax(loaded_logits), top_n_predictions),\n",
    "            feed_dict={loaded_x: random_test_features, loaded_y: random_test_labels, loaded_keep_prob: 1.0})\n",
    "        helper.display_image_predictions(random_test_features, random_test_labels, random_test_predictions)\n",
    "\n",
    "\n",
    "test_model()"
   ]
  },
  {
   "cell_type": "markdown",
   "metadata": {
    "deletable": true,
    "editable": true
   },
   "source": [
    "## Why 50-70% Accuracy?\n",
    "You might be wondering why you can't get an accuracy any higher. First things first, 50% isn't bad for a simple CNN.  Pure guessing would get you 10% accuracy. However, you might notice people are getting scores [well above 70%](http://rodrigob.github.io/are_we_there_yet/build/classification_datasets_results.html#43494641522d3130).  That's because we haven't taught you all there is to know about neural networks. We still need to cover a few more techniques.\n",
    "## Submitting This Project\n",
    "When submitting this project, make sure to run all the cells before saving the notebook.  Save the notebook file as \"dlnd_image_classification.ipynb\" and save it as a HTML file under \"File\" -> \"Download as\".  Include the \"helper.py\" and \"problem_unittests.py\" files in your submission."
   ]
  }
 ],
 "metadata": {
  "anaconda-cloud": {},
  "kernelspec": {
   "display_name": "Python [default]",
   "language": "python",
   "name": "python3"
  },
  "language_info": {
   "codemirror_mode": {
    "name": "ipython",
    "version": 3
   },
   "file_extension": ".py",
   "mimetype": "text/x-python",
   "name": "python",
   "nbconvert_exporter": "python",
   "pygments_lexer": "ipython3",
   "version": "3.5.2"
  }
 },
 "nbformat": 4,
 "nbformat_minor": 0
}
